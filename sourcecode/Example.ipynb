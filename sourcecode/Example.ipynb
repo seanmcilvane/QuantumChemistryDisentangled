{
 "cells": [
  {
   "cell_type": "code",
   "execution_count": null,
   "metadata": {},
   "outputs": [],
   "source": [
    "from VQE_function import run_vqe\n",
    "import matplotlib\n",
    "from matplotlib import pyplot as plt\n",
    "from timeit import default_timer as timer"
   ]
  },
  {
   "cell_type": "code",
   "execution_count": null,
   "metadata": {},
   "outputs": [],
   "source": [
    "start = timer()\n",
    "n_pennylane, energy_pennylane = run_vqe(device= \"default.qubit\",\n",
    "                    source_path = \"part1.txt\",\n",
    "                    positive_energy_flag = \"True\",\n",
    "                    reps = 1,\n",
    "                    skip_final_rotation_layer = \"True\")\n",
    "\n",
    "end = timer()\n",
    "print(\"pennylane\")\n",
    "print(\"time elapsed:\", end - start)\n",
    "print(\"number of iterations:\", len(n_pennylane))\n",
    "\n",
    "start = timer()\n",
    "n_sv1, energy_sv1 = run_vqe(device= \"braket.aws.qubit\",\n",
    "                    source_path = \"part1.txt\",\n",
    "                    positive_energy_flag = \"True\",\n",
    "                    reps = 1,\n",
    "                    skip_final_rotation_layer = \"True\")\n",
    "end = timer()\n",
    "print(\"sv1\")\n",
    "print(\"time elapsed:\", end - start)\n",
    "print(\"number of iterations:\", len(n_sv1))"
   ]
  },
  {
   "cell_type": "code",
   "execution_count": null,
   "metadata": {},
   "outputs": [],
   "source": [
    "#plt.plot(n_pennylane, energy_pennylane, label = 'pennylane')\n",
    "plt.xlabel('iterations')\n",
    "plt.ylabel('energy')\n",
    "plt.plot(n_sv1, energy_sv1, label = 'sv1')\n",
    "plt.legend()\n",
    "plt.show()"
   ]
  },
  {
   "cell_type": "code",
   "execution_count": null,
   "metadata": {},
   "outputs": [],
   "source": []
  }
 ],
 "metadata": {
  "kernelspec": {
   "display_name": "Python 3.9.5 ('QC')",
   "language": "python",
   "name": "python3"
  },
  "language_info": {
   "codemirror_mode": {
    "name": "ipython",
    "version": 3
   },
   "file_extension": ".py",
   "mimetype": "text/x-python",
   "name": "python",
   "nbconvert_exporter": "python",
   "pygments_lexer": "ipython3",
   "version": "3.9.5"
  },
  "orig_nbformat": 4,
  "vscode": {
   "interpreter": {
    "hash": "bd37e5054b4833a414829d03571d1c480f42f3711e810129dc8e959ff79337be"
   }
  }
 },
 "nbformat": 4,
 "nbformat_minor": 2
}
