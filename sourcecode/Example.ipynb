{
 "cells": [
  {
   "cell_type": "code",
   "execution_count": 1,
   "metadata": {},
   "outputs": [],
   "source": [
    "from VQE_function import run_vqe\n",
    "import matplotlib\n",
    "from matplotlib import pyplot as plt\n",
    "import energyusage\n",
    "import json\n",
    "from timeit import default_timer as timer\n",
    "import numpy as np"
   ]
  },
  {
   "cell_type": "code",
   "execution_count": 48,
   "metadata": {},
   "outputs": [
    {
     "name": "stdout",
     "output_type": "stream",
     "text": [
      "time elapsed: 1198.927240203\n",
      "number of iterations: 192\n"
     ]
    }
   ],
   "source": [
    "part_path = \"part4.txt\"\n",
    "\n",
    "start = timer()\n",
    "\n",
    "n_pennylane, energy_pennylane = run_vqe(device= \"default.qubit\",\n",
    "                    source_path = part_path,\n",
    "                    positive_energy_flag = \"True\",\n",
    "                    reps = 1,\n",
    "                    skip_final_rotation_layer = \"True\")\n",
    "end = timer()\n",
    "\n",
    "print(\"time elapsed:\", end - start),\n",
    "print(\"number of iterations:\", len(n_pennylane)),\n",
    "pennylane_dict = {\"n_iterations\": n_pennylane,\n",
    "                     \"energy_list\": energy_pennylane,\n",
    "                     \"run_time\": end-start}\n",
    "with open(f'results/beh2/part4/pennylane-defaultqubit.txt','w+') as pennylane_file:\n",
    "    pennylane_file.write(json.dumps(pennylane_dict))\n",
    "\n"
   ]
  },
  {
   "cell_type": "code",
   "execution_count": null,
   "metadata": {},
   "outputs": [],
   "source": [
    "try: \n",
    "    start = timer()\n",
    "    device = \"braket.aws.qubit\"\n",
    "    cloud_provider = \"sv1\"\n",
    "    n_sv1, energy_sv1 = run_vqe(cloud_provider = cloud_provider,\n",
    "                    device= \"braket.aws.qubit\",\n",
    "                    source_path = \"part4.txt\",\n",
    "                    positive_energy_flag = \"True\",\n",
    "                    reps = 1,\n",
    "                    skip_final_rotation_layer = \"True\")\n",
    "    end = timer()\n",
    "    print(\"sv1\")\n",
    "    print(\"time elapsed:\", end - start)\n",
    "    print(\"number of iterations:\", len(n_sv1))\n",
    "\n",
    "    sv1_dict = {\"n_iterations\": n_sv1,\n",
    "                     \"energy_list\": [float(energy_sv1[i]) for i in range(len(energy_sv1))],\n",
    "                     \"run_time\": end-start}\n",
    "    with open(f'results/beh2/part4/braket-sv1.txt','w+') as pennylane_file:\n",
    "        pennylane_file.write(json.dumps(sv1_dict))\n",
    "except:\n",
    "    print(\"something went wrong\")\n"
   ]
  },
  {
   "cell_type": "code",
   "execution_count": null,
   "metadata": {},
   "outputs": [],
   "source": [
    "try: \n",
    "    start = timer()\n",
    "    device = \"braket.aws.qubit\"\n",
    "    cloud_provider = \"sv1\"\n",
    "    n_sv1, energy_sv1 = run_vqe(cloud_provider = cloud_provider,\n",
    "                    device= \"braket.aws.qubit\",\n",
    "                    source_path = \"part5.txt\",\n",
    "                    positive_energy_flag = \"True\",\n",
    "                    reps = 1,\n",
    "                    skip_final_rotation_layer = \"True\")\n",
    "    end = timer()\n",
    "    print(\"sv1\")\n",
    "    print(\"time elapsed:\", end - start)\n",
    "    print(\"number of iterations:\", len(n_sv1))\n",
    "\n",
    "    sv1_dict = {\"n_iterations\": n_sv1,\n",
    "                     \"energy_list\": [float(energy_sv1[i]) for i in range(len(energy_sv1))],\n",
    "                     \"run_time\": end-start}\n",
    "    with open(f'results/beh2/part5/braket-sv1.txt','w+') as pennylane_file:\n",
    "        pennylane_file.write(json.dumps(sv1_dict))\n",
    "except:\n",
    "    print(\"something went wrong\")\n"
   ]
  },
  {
   "cell_type": "code",
   "execution_count": null,
   "metadata": {},
   "outputs": [],
   "source": [
    "try: \n",
    "    start = timer()\n",
    "    device = \"braket.aws.qubit\"\n",
    "    cloud_provider = \"sv1\"\n",
    "    n_sv1, energy_sv1 = run_vqe(cloud_provider = cloud_provider,\n",
    "                    device= \"braket.aws.qubit\",\n",
    "                    source_path = \"part6.txt\",\n",
    "                    positive_energy_flag = \"True\",\n",
    "                    reps = 1,\n",
    "                    skip_final_rotation_layer = \"True\")\n",
    "    end = timer()\n",
    "    print(\"sv1\")\n",
    "    print(\"time elapsed:\", end - start)\n",
    "    print(\"number of iterations:\", len(n_sv1))\n",
    "\n",
    "    sv1_dict = {\"n_iterations\": n_sv1,\n",
    "                     \"energy_list\": [float(energy_sv1[i]) for i in range(len(energy_sv1))],\n",
    "                     \"run_time\": end-start}\n",
    "    with open(f'results/beh2/part6/braket-sv1.txt','w+') as pennylane_file:\n",
    "        pennylane_file.write(json.dumps(sv1_dict))\n",
    "except:\n",
    "    print(\"something went wrong\")"
   ]
  },
  {
   "cell_type": "code",
   "execution_count": 2,
   "metadata": {},
   "outputs": [
    {
     "name": "stdout",
     "output_type": "stream",
     "text": [
      "something went wrong\n"
     ]
    }
   ],
   "source": [
    "try: \n",
    "    start = timer()\n",
    "    device = \"braket.aws.qubit\"\n",
    "    cloud_provider = \"lucy\"\n",
    "    n_sv1, energy_sv1 = run_vqe(cloud_provider = cloud_provider,\n",
    "                    device= \"braket.aws.qubit\",\n",
    "                    source_path = \"part0.txt\",\n",
    "                    positive_energy_flag = \"True\",\n",
    "                    reps = 1,\n",
    "                    skip_final_rotation_layer = \"True\")\n",
    "    end = timer()\n",
    "    print(\"sv1\")\n",
    "    print(\"time elapsed:\", end - start)\n",
    "    print(\"number of iterations:\", len(n_sv1))\n",
    "\n",
    "    sv1_dict = {\"n_iterations\": n_sv1,\n",
    "                     \"energy_list\": [float(energy_sv1[i]) for i in range(len(energy_sv1))],\n",
    "                     \"run_time\": end-start}\n",
    "    with open(f'results/beh2/part0/braket-lucy.txt','w+') as pennylane_file:\n",
    "        pennylane_file.write(json.dumps(sv1_dict))\n",
    "except:\n",
    "    print(\"something went wrong\")\n"
   ]
  },
  {
   "cell_type": "code",
   "execution_count": null,
   "metadata": {},
   "outputs": [],
   "source": [
    "\n",
    "start = timer()\n",
    "device = \"braket.aws.qubit\"\n",
    "cloud_provider = \"ionq\"\n",
    "n_sv1, energy_sv1 = run_vqe(cloud_provider = cloud_provider,\n",
    "                    device= \"braket.aws.qubit\",\n",
    "                    source_path = \"part0.txt\",\n",
    "                    positive_energy_flag = \"True\",\n",
    "                    reps = 1,\n",
    "                    skip_final_rotation_layer = \"True\")\n",
    "end = timer()\n",
    "print(\"sv1\")\n",
    "print(\"time elapsed:\", end - start)\n",
    "print(\"number of iterations:\", len(n_sv1))\n",
    "\n",
    "sv1_dict = {\"n_iterations\": n_sv1,\n",
    "                     \"energy_list\": [float(energy_sv1[i]) for i in range(len(energy_sv1))],\n",
    "                     \"run_time\": end-start}\n",
    "with open(f'results/beh2/part0/braket-ionq.txt','w+') as pennylane_file:\n",
    "    pennylane_file.write(json.dumps(sv1_dict))\n"
   ]
  },
  {
   "cell_type": "code",
   "execution_count": 10,
   "metadata": {},
   "outputs": [
    {
     "data": {
      "image/png": "[encoded data removed]",
      "text/plain": [
       "<Figure size 432x288 with 1 Axes>"
      ]
     },
     "metadata": {
      "needs_background": "light"
     },
     "output_type": "display_data"
    }
   ],
   "source": [
    "#plt.plot(n_pennylane, energy_pennylane, label = 'pennylane')\n",
    "plt.xlabel('iterations')\n",
    "plt.ylabel('energy')\n",
    "plt.plot(n_sv1, energy_sv1, label = 'sv1')\n",
    "plt.legend()\n",
    "plt.show()"
   ]
  },
  {
   "cell_type": "code",
   "execution_count": 35,
   "metadata": {},
   "outputs": [
    {
     "name": "stdout",
     "output_type": "stream",
     "text": [
      "[tensor(1.43583719, requires_grad=True), tensor(1.51217627, requires_grad=True), tensor(1.58754743, requires_grad=True), tensor(1.68278773, requires_grad=True), tensor(1.80944048, requires_grad=True), tensor(1.97294694, requires_grad=True), tensor(2.17542032, requires_grad=True), tensor(2.41459443, requires_grad=True), tensor(2.68285106, requires_grad=True), tensor(2.96992079, requires_grad=True), tensor(3.26824708, requires_grad=True), tensor(3.56628467, requires_grad=True), tensor(3.84216503, requires_grad=True), tensor(4.06747612, requires_grad=True), tensor(4.21623643, requires_grad=True), tensor(4.27800462, requires_grad=True), tensor(4.26607143, requires_grad=True), tensor(4.20978655, requires_grad=True), tensor(4.1388425, requires_grad=True), tensor(4.07507011, requires_grad=True), tensor(4.03128262, requires_grad=True), tensor(4.01263538, requires_grad=True), tensor(4.01883868, requires_grad=True), tensor(4.04627561, requires_grad=True), tensor(4.08936559, requires_grad=True), tensor(4.14118695, requires_grad=True), tensor(4.19409208, requires_grad=True), tensor(4.24088541, requires_grad=True), tensor(4.27628342, requires_grad=True), tensor(4.29797407, requires_grad=True), tensor(4.30679649, requires_grad=True), tensor(4.30593912, requires_grad=True), tensor(4.29950187, requires_grad=True), tensor(4.2911612, requires_grad=True), tensor(4.28351783, requires_grad=True), tensor(4.27811497, requires_grad=True), tensor(4.27577399, requires_grad=True), tensor(4.27690148, requires_grad=True), tensor(4.28155579, requires_grad=True), tensor(4.28929065, requires_grad=True), tensor(4.29902635, requires_grad=True), tensor(4.30919493, requires_grad=True), tensor(4.31816634, requires_grad=True), tensor(4.32474754, requires_grad=True), tensor(4.32849579, requires_grad=True), tensor(4.32969697, requires_grad=True), tensor(4.32907513, requires_grad=True), tensor(4.3274607, requires_grad=True), tensor(4.32559903, requires_grad=True), tensor(4.32410648, requires_grad=True), tensor(4.3234659, requires_grad=True), tensor(4.32396982, requires_grad=True), tensor(4.32562145, requires_grad=True), tensor(4.32809275, requires_grad=True), tensor(4.33082276, requires_grad=True), tensor(4.33323126, requires_grad=True), tensor(4.33493094, requires_grad=True), tensor(4.33582265, requires_grad=True), tensor(4.33604401, requires_grad=True), tensor(4.3358408, requires_grad=True), tensor(4.33546053, requires_grad=True), tensor(4.3351114, requires_grad=True), tensor(4.33495704, requires_grad=True), tensor(4.3350997, requires_grad=True), tensor(4.33554432, requires_grad=True), tensor(4.33618318, requires_grad=True), tensor(4.33683886, requires_grad=True), tensor(4.33735309, requires_grad=True), tensor(4.33766221, requires_grad=True), tensor(4.33780666, requires_grad=True), tensor(4.33787567, requires_grad=True), tensor(4.33793866, requires_grad=True), tensor(4.33801598, requires_grad=True), tensor(4.33809701, requires_grad=True), tensor(4.33817261, requires_grad=True), tensor(4.33824719, requires_grad=True), tensor(4.33832731, requires_grad=True), tensor(4.33840929, requires_grad=True), tensor(4.33848346, requires_grad=True), tensor(4.33854829, requires_grad=True), tensor(4.33861492, requires_grad=True), tensor(4.33869528, requires_grad=True), tensor(4.33878698, requires_grad=True), tensor(4.33887202, requires_grad=True), tensor(4.33893065, requires_grad=True), tensor(4.33895587, requires_grad=True), tensor(4.33895561, requires_grad=True), tensor(4.33894433, requires_grad=True), tensor(4.3389351, requires_grad=True), tensor(4.33893807, requires_grad=True), tensor(4.33896077, requires_grad=True), tensor(4.33900477, requires_grad=True), tensor(4.33906095, requires_grad=True), tensor(4.33911147, requires_grad=True), tensor(4.33914016, requires_grad=True), tensor(4.33914329, requires_grad=True), tensor(4.33913094, requires_grad=True), tensor(4.33911815, requires_grad=True), tensor(4.33911475, requires_grad=True), tensor(4.33912212, requires_grad=True), tensor(4.33913661, requires_grad=True), tensor(4.33915384, requires_grad=True), tensor(4.33917007, requires_grad=True), tensor(4.33918217, requires_grad=True), tensor(4.33918848, requires_grad=True), tensor(4.33918996, requires_grad=True), tensor(4.33918958, requires_grad=True), tensor(4.33918998, requires_grad=True), tensor(4.33919183, requires_grad=True), tensor(4.3391945, requires_grad=True), tensor(4.3391976, requires_grad=True), tensor(4.33920125, requires_grad=True), tensor(4.33920519, requires_grad=True), tensor(4.33920859, requires_grad=True), tensor(4.33921087, requires_grad=True), tensor(4.33921244, requires_grad=True), tensor(4.33921405, requires_grad=True), tensor(4.33921572, requires_grad=True), tensor(4.33921681, requires_grad=True), tensor(4.33921698, requires_grad=True), tensor(4.33921682, requires_grad=True), tensor(4.33921719, requires_grad=True), tensor(4.33921843, requires_grad=True), tensor(4.33922013, requires_grad=True), tensor(4.33922175, requires_grad=True), tensor(4.33922294, requires_grad=True), tensor(4.33922356, requires_grad=True), tensor(4.33922363, requires_grad=True), tensor(4.33922338, requires_grad=True), tensor(4.33922326, requires_grad=True), tensor(4.33922353, requires_grad=True), tensor(4.33922412, requires_grad=True), tensor(4.33922474, requires_grad=True), tensor(4.33922523, requires_grad=True), tensor(4.33922562, requires_grad=True), tensor(4.33922592, requires_grad=True), tensor(4.33922609, requires_grad=True), tensor(4.33922615, requires_grad=True), tensor(4.33922617, requires_grad=True), tensor(4.33922624, requires_grad=True), tensor(4.33922633, requires_grad=True), tensor(4.33922642, requires_grad=True), tensor(4.33922656, requires_grad=True), tensor(4.33922679, requires_grad=True), tensor(4.33922704, requires_grad=True), tensor(4.33922721, requires_grad=True), tensor(4.33922724, requires_grad=True), tensor(4.33922719, requires_grad=True), tensor(4.33922711, requires_grad=True), tensor(4.33922708, requires_grad=True), tensor(4.33922714, requires_grad=True), tensor(4.33922728, requires_grad=True), tensor(4.33922744, requires_grad=True), tensor(4.33922755, requires_grad=True), tensor(4.33922757, requires_grad=True), tensor(4.33922753, requires_grad=True), tensor(4.33922748, requires_grad=True), tensor(4.33922746, requires_grad=True), tensor(4.33922747, requires_grad=True), tensor(4.33922753, requires_grad=True), tensor(4.33922761, requires_grad=True), tensor(4.33922766, requires_grad=True), tensor(4.33922767, requires_grad=True), tensor(4.33922765, requires_grad=True), tensor(4.33922764, requires_grad=True), tensor(4.33922764, requires_grad=True), tensor(4.33922765, requires_grad=True), tensor(4.33922766, requires_grad=True), tensor(4.33922768, requires_grad=True), tensor(4.3392277, requires_grad=True), tensor(4.33922771, requires_grad=True), tensor(4.33922772, requires_grad=True), tensor(4.33922772, requires_grad=True), tensor(4.33922771, requires_grad=True), tensor(4.33922771, requires_grad=True), tensor(4.33922771, requires_grad=True), tensor(4.33922772, requires_grad=True), tensor(4.33922773, requires_grad=True), tensor(4.33922774, requires_grad=True), tensor(4.33922775, requires_grad=True), tensor(4.33922774, requires_grad=True), tensor(4.33922774, requires_grad=True), tensor(4.33922773, requires_grad=True), tensor(4.33922773, requires_grad=True), tensor(4.33922774, requires_grad=True), tensor(4.33922775, requires_grad=True), tensor(4.33922775, requires_grad=True), tensor(4.33922775, requires_grad=True)]\n",
      "1.4358371947900377\n",
      "1.5121762722368524\n",
      "[1.4358371947900377, 1.5121762722368524, 1.5875474332691482, 1.6827877265872804, 1.8094404795527919, 1.9729469439714662, 2.175420324978834, 2.4145944344844015, 2.6828510622745245, 2.9699207948062396, 3.2682470757603967, 3.5662846715013097, 3.842165030330679, 4.067476116964018, 4.216236433892634, 4.27800462222464, 4.266071430788117, 4.209786549232982, 4.138842501823083, 4.0750701083214125, 4.031282621276303, 4.012635383856958, 4.018838682530439, 4.046275606796115, 4.0893655893317, 4.141186945952202, 4.1940920847585605, 4.240885409088202, 4.276283424188927, 4.297974072044066, 4.306796491697607, 4.305939123443052, 4.299501865803259, 4.291161196094223, 4.283517826425041, 4.27811497289718, 4.275773993385785, 4.276901476588936, 4.2815557914486435, 4.289290653001528, 4.299026353315143, 4.309194925555806, 4.318166337094481, 4.3247475374390625, 4.328495788939958, 4.329696968160129, 4.3290751312937745, 4.327460698004546, 4.325599029607537, 4.324106479263678, 4.323465901933608, 4.323969821365159, 4.325621445637485, 4.328092745274548, 4.330822760542945, 4.333231263630813, 4.3349309390546065, 4.335822647583533, 4.336044007044789, 4.3358407957062175, 4.335460532620155, 4.33511140062563, 4.334957044665266, 4.3350996950256855, 4.335544319280381, 4.336183179715499, 4.336838861685409, 4.337353088735871, 4.3376622065699255, 4.337806663481176, 4.337875668973198, 4.3379386589308835, 4.33801597663957, 4.338097013464285, 4.3381726117556605, 4.338247193383528, 4.338327311253343, 4.3384092856942, 4.338483463161001, 4.338548294490027, 4.338614922567395, 4.338695283803367, 4.338786981134166, 4.338872015010106, 4.338930645685982, 4.338955871448484, 4.338955614715483, 4.338944330966331, 4.3389351017669355, 4.338938066111583, 4.338960772171666, 4.3390047687207645, 4.339060953414851, 4.3391114741653025, 4.339140156540701, 4.339143291326385, 4.339130944312565, 4.339118147262062, 4.339114746049522, 4.339122118460683, 4.339136614080842, 4.339153838281897, 4.339170066150129, 4.339182171263124, 4.339188478669265, 4.339189955012362, 4.339189581282251, 4.3391899820886835, 4.339191827073577, 4.339194498501965, 4.339197604013932, 4.3392012505175295, 4.339205193399584, 4.339208585393382, 4.339210868141716, 4.339212442415441, 4.339214048403596, 4.339215722024065, 4.339216810476517, 4.339216984534232, 4.339216815962871, 4.339217192859567, 4.3392184279742825, 4.339220131517454, 4.339221746936973, 4.339222938335151, 4.339223564513705, 4.339223629810102, 4.3392233825237865, 4.339223255699458, 4.3392235325141675, 4.339224121507812, 4.339224739087677, 4.339225230386436, 4.3392256169258365, 4.339225919189938, 4.339226093936207, 4.339226146053708, 4.339226169872711, 4.339226236702315, 4.339226328145517, 4.339226421215644, 4.339226560598829, 4.339226785972217, 4.339227039112472, 4.339227208057914, 4.3392272429159116, 4.3392271858165845, 4.339227111264268, 4.339227081183792, 4.339227136434864, 4.339227276049053, 4.339227439639514, 4.339227547209688, 4.339227566892804, 4.339227528556451, 4.339227480162469, 4.339227455268124, 4.339227473049697, 4.339227534393551, 4.339227610835972, 4.339227661356808, 4.339227669849598, 4.339227654439747, 4.33922764021344, 4.339227637374697, 4.339227645333991, 4.339227661409363, 4.339227680785577, 4.339227697926312, 4.339227710970298, 4.33922771952959, 4.339227720666144, 4.339227713739556, 4.3392277060577, 4.339227706699739, 4.339227716774308, 4.3392277303279245, 4.339227741434535, 4.339227746508733, 4.339227744042465, 4.339227736748339, 4.339227731288854, 4.33922773260949, 4.339227739876579, 4.339227748511665, 4.339227753977381, 4.3392277539658695]\n",
      "[tensor(1.43583719, requires_grad=True), tensor(1.51217627, requires_grad=True), tensor(1.58754743, requires_grad=True), tensor(1.68278773, requires_grad=True), tensor(1.80944048, requires_grad=True), tensor(1.97294694, requires_grad=True), tensor(2.17542032, requires_grad=True), tensor(2.41459443, requires_grad=True), tensor(2.68285106, requires_grad=True), tensor(2.96992079, requires_grad=True), tensor(3.26824708, requires_grad=True), tensor(3.56628467, requires_grad=True), tensor(3.84216503, requires_grad=True), tensor(4.06747612, requires_grad=True), tensor(4.21623643, requires_grad=True), tensor(4.27800462, requires_grad=True), tensor(4.26607143, requires_grad=True), tensor(4.20978655, requires_grad=True), tensor(4.1388425, requires_grad=True), tensor(4.07507011, requires_grad=True), tensor(4.03128262, requires_grad=True), tensor(4.01263538, requires_grad=True), tensor(4.01883868, requires_grad=True), tensor(4.04627561, requires_grad=True), tensor(4.08936559, requires_grad=True), tensor(4.14118695, requires_grad=True), tensor(4.19409208, requires_grad=True), tensor(4.24088541, requires_grad=True), tensor(4.27628342, requires_grad=True), tensor(4.29797407, requires_grad=True), tensor(4.30679649, requires_grad=True), tensor(4.30593912, requires_grad=True), tensor(4.29950187, requires_grad=True), tensor(4.2911612, requires_grad=True), tensor(4.28351783, requires_grad=True), tensor(4.27811497, requires_grad=True), tensor(4.27577399, requires_grad=True), tensor(4.27690148, requires_grad=True), tensor(4.28155579, requires_grad=True), tensor(4.28929065, requires_grad=True), tensor(4.29902635, requires_grad=True), tensor(4.30919493, requires_grad=True), tensor(4.31816634, requires_grad=True), tensor(4.32474754, requires_grad=True), tensor(4.32849579, requires_grad=True), tensor(4.32969697, requires_grad=True), tensor(4.32907513, requires_grad=True), tensor(4.3274607, requires_grad=True), tensor(4.32559903, requires_grad=True), tensor(4.32410648, requires_grad=True), tensor(4.3234659, requires_grad=True), tensor(4.32396982, requires_grad=True), tensor(4.32562145, requires_grad=True), tensor(4.32809275, requires_grad=True), tensor(4.33082276, requires_grad=True), tensor(4.33323126, requires_grad=True), tensor(4.33493094, requires_grad=True), tensor(4.33582265, requires_grad=True), tensor(4.33604401, requires_grad=True), tensor(4.3358408, requires_grad=True), tensor(4.33546053, requires_grad=True), tensor(4.3351114, requires_grad=True), tensor(4.33495704, requires_grad=True), tensor(4.3350997, requires_grad=True), tensor(4.33554432, requires_grad=True), tensor(4.33618318, requires_grad=True), tensor(4.33683886, requires_grad=True), tensor(4.33735309, requires_grad=True), tensor(4.33766221, requires_grad=True), tensor(4.33780666, requires_grad=True), tensor(4.33787567, requires_grad=True), tensor(4.33793866, requires_grad=True), tensor(4.33801598, requires_grad=True), tensor(4.33809701, requires_grad=True), tensor(4.33817261, requires_grad=True), tensor(4.33824719, requires_grad=True), tensor(4.33832731, requires_grad=True), tensor(4.33840929, requires_grad=True), tensor(4.33848346, requires_grad=True), tensor(4.33854829, requires_grad=True), tensor(4.33861492, requires_grad=True), tensor(4.33869528, requires_grad=True), tensor(4.33878698, requires_grad=True), tensor(4.33887202, requires_grad=True), tensor(4.33893065, requires_grad=True), tensor(4.33895587, requires_grad=True), tensor(4.33895561, requires_grad=True), tensor(4.33894433, requires_grad=True), tensor(4.3389351, requires_grad=True), tensor(4.33893807, requires_grad=True), tensor(4.33896077, requires_grad=True), tensor(4.33900477, requires_grad=True), tensor(4.33906095, requires_grad=True), tensor(4.33911147, requires_grad=True), tensor(4.33914016, requires_grad=True), tensor(4.33914329, requires_grad=True), tensor(4.33913094, requires_grad=True), tensor(4.33911815, requires_grad=True), tensor(4.33911475, requires_grad=True), tensor(4.33912212, requires_grad=True), tensor(4.33913661, requires_grad=True), tensor(4.33915384, requires_grad=True), tensor(4.33917007, requires_grad=True), tensor(4.33918217, requires_grad=True), tensor(4.33918848, requires_grad=True), tensor(4.33918996, requires_grad=True), tensor(4.33918958, requires_grad=True), tensor(4.33918998, requires_grad=True), tensor(4.33919183, requires_grad=True), tensor(4.3391945, requires_grad=True), tensor(4.3391976, requires_grad=True), tensor(4.33920125, requires_grad=True), tensor(4.33920519, requires_grad=True), tensor(4.33920859, requires_grad=True), tensor(4.33921087, requires_grad=True), tensor(4.33921244, requires_grad=True), tensor(4.33921405, requires_grad=True), tensor(4.33921572, requires_grad=True), tensor(4.33921681, requires_grad=True), tensor(4.33921698, requires_grad=True), tensor(4.33921682, requires_grad=True), tensor(4.33921719, requires_grad=True), tensor(4.33921843, requires_grad=True), tensor(4.33922013, requires_grad=True), tensor(4.33922175, requires_grad=True), tensor(4.33922294, requires_grad=True), tensor(4.33922356, requires_grad=True), tensor(4.33922363, requires_grad=True), tensor(4.33922338, requires_grad=True), tensor(4.33922326, requires_grad=True), tensor(4.33922353, requires_grad=True), tensor(4.33922412, requires_grad=True), tensor(4.33922474, requires_grad=True), tensor(4.33922523, requires_grad=True), tensor(4.33922562, requires_grad=True), tensor(4.33922592, requires_grad=True), tensor(4.33922609, requires_grad=True), tensor(4.33922615, requires_grad=True), tensor(4.33922617, requires_grad=True), tensor(4.33922624, requires_grad=True), tensor(4.33922633, requires_grad=True), tensor(4.33922642, requires_grad=True), tensor(4.33922656, requires_grad=True), tensor(4.33922679, requires_grad=True), tensor(4.33922704, requires_grad=True), tensor(4.33922721, requires_grad=True), tensor(4.33922724, requires_grad=True), tensor(4.33922719, requires_grad=True), tensor(4.33922711, requires_grad=True), tensor(4.33922708, requires_grad=True), tensor(4.33922714, requires_grad=True), tensor(4.33922728, requires_grad=True), tensor(4.33922744, requires_grad=True), tensor(4.33922755, requires_grad=True), tensor(4.33922757, requires_grad=True), tensor(4.33922753, requires_grad=True), tensor(4.33922748, requires_grad=True), tensor(4.33922746, requires_grad=True), tensor(4.33922747, requires_grad=True), tensor(4.33922753, requires_grad=True), tensor(4.33922761, requires_grad=True), tensor(4.33922766, requires_grad=True), tensor(4.33922767, requires_grad=True), tensor(4.33922765, requires_grad=True), tensor(4.33922764, requires_grad=True), tensor(4.33922764, requires_grad=True), tensor(4.33922765, requires_grad=True), tensor(4.33922766, requires_grad=True), tensor(4.33922768, requires_grad=True), tensor(4.3392277, requires_grad=True), tensor(4.33922771, requires_grad=True), tensor(4.33922772, requires_grad=True), tensor(4.33922772, requires_grad=True), tensor(4.33922771, requires_grad=True), tensor(4.33922771, requires_grad=True), tensor(4.33922771, requires_grad=True), tensor(4.33922772, requires_grad=True), tensor(4.33922773, requires_grad=True), tensor(4.33922774, requires_grad=True), tensor(4.33922775, requires_grad=True), tensor(4.33922774, requires_grad=True), tensor(4.33922774, requires_grad=True), tensor(4.33922773, requires_grad=True), tensor(4.33922773, requires_grad=True), tensor(4.33922774, requires_grad=True), tensor(4.33922775, requires_grad=True), tensor(4.33922775, requires_grad=True), tensor(4.33922775, requires_grad=True)]\n"
     ]
    }
   ],
   "source": [
    "print(energy_sv1)\n",
    "print(energy_sv1[0])\n",
    "\n",
    "print(energy_sv1[np.array(1)])\n",
    "nottensor = [float(energy_sv1[i]) for i in range(len(energy_sv1))]\n",
    "print(nottensor)\n",
    "energy_list = []\n",
    "for i in range(len(energy_sv1)):\n",
    "    energy_list.append(energy_sv1[i])\n",
    "\n",
    "print(energy_list)"
   ]
  }
 ],
 "metadata": {
  "kernelspec": {
   "display_name": "Python 3 (ipykernel)",
   "language": "python",
   "name": "python3"
  },
  "language_info": {
   "codemirror_mode": {
    "name": "ipython",
    "version": 3
   },
   "file_extension": ".py",
   "mimetype": "text/x-python",
   "name": "python",
   "nbconvert_exporter": "python",
   "pygments_lexer": "ipython3",
   "version": "3.8.8"
  },
  "vscode": {
   "interpreter": {
    "hash": "aee8b7b246df8f9039afb4144a1f6fd8d2ca17a180786b69acc140d282b71a49"
   }
  }
 },
 "nbformat": 4,
 "nbformat_minor": 2
}
