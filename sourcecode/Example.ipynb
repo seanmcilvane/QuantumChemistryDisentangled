{
 "cells": [
  {
   "cell_type": "code",
   "execution_count": 6,
   "metadata": {},
   "outputs": [],
   "source": [
    "from VQE_function import run_vqe\n",
    "import matplotlib\n",
    "from matplotlib import pyplot as plt"
   ]
  },
  {
   "cell_type": "code",
   "execution_count": 7,
   "metadata": {},
   "outputs": [
    {
     "name": "stdout",
     "output_type": "stream",
     "text": [
      "step = 0,  E = 1.43583719\n"
     ]
    }
   ],
   "source": [
    "n, energy = run_vqe(device= \"lightning.qubit\",\n",
    "                    source_path = \"part0.txt\",\n",
    "                    positive_energy_flag = \"True\",\n",
    "                    reps = 1,\n",
    "                    skip_final_rotation_layer = \"True\")\n",
    "\n"
   ]
  }
 ],
 "metadata": {
  "kernelspec": {
   "display_name": "Python 3.9.5 ('QC')",
   "language": "python",
   "name": "python3"
  },
  "language_info": {
   "codemirror_mode": {
    "name": "ipython",
    "version": 3
   },
   "file_extension": ".py",
   "mimetype": "text/x-python",
   "name": "python",
   "nbconvert_exporter": "python",
   "pygments_lexer": "ipython3",
   "version": "3.9.5"
  },
  "orig_nbformat": 4,
  "vscode": {
   "interpreter": {
    "hash": "bd37e5054b4833a414829d03571d1c480f42f3711e810129dc8e959ff79337be"
   }
  }
 },
 "nbformat": 4,
 "nbformat_minor": 2
}
