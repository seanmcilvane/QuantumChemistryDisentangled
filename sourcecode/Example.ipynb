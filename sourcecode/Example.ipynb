{
 "cells": [
  {
   "cell_type": "code",
   "execution_count": 6,
   "metadata": {},
   "outputs": [
    {
     "name": "stderr",
     "output_type": "stream",
     "text": [
      "WARNING:root:imports error \n",
      " You need to install pymongo>=3.9.0 in order to use MongoOutput \n"
     ]
    }
   ],
   "source": [
    "from VQE_function import run_vqe\n",
    "import matplotlib\n",
    "from matplotlib import pyplot as plt\n",
    "import energyusage\n",
    "\n",
    "#from timeit import default_timer as timer\n"
   ]
  },
  {
   "cell_type": "code",
   "execution_count": 7,
   "metadata": {},
   "outputs": [
    {
     "ename": "FileNotFoundError",
     "evalue": "[Errno 2] No such file or directory: '/sys/devices/system/cpu/present'",
     "output_type": "error",
     "traceback": [
      "\u001b[0;31m---------------------------------------------------------------------------\u001b[0m",
      "\u001b[0;31mFileNotFoundError\u001b[0m                         Traceback (most recent call last)",
      "\u001b[1;32m/Users/seanmcilvane/Desktop/QuantumChemistryDisentangled/sourcecode/Example.ipynb Cell 2\u001b[0m in \u001b[0;36m<cell line: 7>\u001b[0;34m()\u001b[0m\n\u001b[1;32m      <a href='vscode-notebook-cell:/Users/seanmcilvane/Desktop/QuantumChemistryDisentangled/sourcecode/Example.ipynb#ch0000001?line=0'>1</a>\u001b[0m \u001b[39m# n_pennylane, energy_pennylane = run_vqe(device= \"default.qubit\",\u001b[39;00m\n\u001b[1;32m      <a href='vscode-notebook-cell:/Users/seanmcilvane/Desktop/QuantumChemistryDisentangled/sourcecode/Example.ipynb#ch0000001?line=1'>2</a>\u001b[0m \u001b[39m#                     source_path = \"part1.txt\",\u001b[39;00m\n\u001b[1;32m      <a href='vscode-notebook-cell:/Users/seanmcilvane/Desktop/QuantumChemistryDisentangled/sourcecode/Example.ipynb#ch0000001?line=2'>3</a>\u001b[0m \u001b[39m#                     positive_energy_flag = \"True\",\u001b[39;00m\n\u001b[1;32m      <a href='vscode-notebook-cell:/Users/seanmcilvane/Desktop/QuantumChemistryDisentangled/sourcecode/Example.ipynb#ch0000001?line=3'>4</a>\u001b[0m \u001b[39m#                     reps = 1,\u001b[39;00m\n\u001b[1;32m      <a href='vscode-notebook-cell:/Users/seanmcilvane/Desktop/QuantumChemistryDisentangled/sourcecode/Example.ipynb#ch0000001?line=4'>5</a>\u001b[0m \u001b[39m#                     skip_final_rotation_layer = \"True\")\u001b[39;00m\n\u001b[0;32m----> <a href='vscode-notebook-cell:/Users/seanmcilvane/Desktop/QuantumChemistryDisentangled/sourcecode/Example.ipynb#ch0000001?line=6'>7</a>\u001b[0m pyRAPL\u001b[39m.\u001b[39;49msetup()\n\u001b[1;32m      <a href='vscode-notebook-cell:/Users/seanmcilvane/Desktop/QuantumChemistryDisentangled/sourcecode/Example.ipynb#ch0000001?line=8'>9</a>\u001b[0m meter \u001b[39m=\u001b[39m pyRAPL\u001b[39m.\u001b[39mMeasurement(\u001b[39m'\u001b[39m\u001b[39mbar\u001b[39m\u001b[39m'\u001b[39m)\n\u001b[1;32m     <a href='vscode-notebook-cell:/Users/seanmcilvane/Desktop/QuantumChemistryDisentangled/sourcecode/Example.ipynb#ch0000001?line=9'>10</a>\u001b[0m meter\u001b[39m.\u001b[39mbegin()\n",
      "File \u001b[0;32m~/anaconda3/envs/QC/lib/python3.9/site-packages/pyRAPL/pyRAPL.py:39\u001b[0m, in \u001b[0;36msetup\u001b[0;34m(devices, socket_ids)\u001b[0m\n\u001b[1;32m     25\u001b[0m \u001b[39mdef\u001b[39;00m \u001b[39msetup\u001b[39m(devices: Optional[List[Device]] \u001b[39m=\u001b[39m \u001b[39mNone\u001b[39;00m, socket_ids: Optional[List[\u001b[39mint\u001b[39m]] \u001b[39m=\u001b[39m \u001b[39mNone\u001b[39;00m):\n\u001b[1;32m     26\u001b[0m \u001b[39m    \u001b[39m\u001b[39m\"\"\"\u001b[39;00m\n\u001b[1;32m     27\u001b[0m \u001b[39m    Configure which device and CPU socket should be monitored by pyRAPL\u001b[39;00m\n\u001b[1;32m     28\u001b[0m \n\u001b[0;32m   (...)\u001b[0m\n\u001b[1;32m     37\u001b[0m \u001b[39m    :raise PyRAPLBadSocketIdException: if the given socket in parameter doesn't exist\u001b[39;00m\n\u001b[1;32m     38\u001b[0m \u001b[39m    \"\"\"\u001b[39;00m\n\u001b[0;32m---> 39\u001b[0m     pyRAPL\u001b[39m.\u001b[39m_sensor \u001b[39m=\u001b[39m Sensor(devices\u001b[39m=\u001b[39;49mdevices, socket_ids\u001b[39m=\u001b[39;49msocket_ids)\n",
      "File \u001b[0;32m~/anaconda3/envs/QC/lib/python3.9/site-packages/pyRAPL/sensor.py:59\u001b[0m, in \u001b[0;36mSensor.__init__\u001b[0;34m(self, devices, socket_ids)\u001b[0m\n\u001b[1;32m     57\u001b[0m \u001b[39mfor\u001b[39;00m device \u001b[39min\u001b[39;00m tmp_device:\n\u001b[1;32m     58\u001b[0m     \u001b[39mtry\u001b[39;00m:\n\u001b[0;32m---> 59\u001b[0m         \u001b[39mself\u001b[39m\u001b[39m.\u001b[39m_device_api[device] \u001b[39m=\u001b[39m DeviceAPIFactory\u001b[39m.\u001b[39;49mcreate_device_api(device, socket_ids)\n\u001b[1;32m     60\u001b[0m         \u001b[39mself\u001b[39m\u001b[39m.\u001b[39m_available_devices\u001b[39m.\u001b[39mappend(device)\n\u001b[1;32m     61\u001b[0m     \u001b[39mexcept\u001b[39;00m PyRAPLCantInitDeviceAPI:\n",
      "File \u001b[0;32m~/anaconda3/envs/QC/lib/python3.9/site-packages/pyRAPL/device_api.py:186\u001b[0m, in \u001b[0;36mDeviceAPIFactory.create_device_api\u001b[0;34m(device, socket_ids)\u001b[0m\n\u001b[1;32m    180\u001b[0m \u001b[39m\u001b[39m\u001b[39m\"\"\"\u001b[39;00m\n\u001b[1;32m    181\u001b[0m \u001b[39m:param device: the device corresponding to the DeviceAPI to be created\u001b[39;00m\n\u001b[1;32m    182\u001b[0m \u001b[39m:param socket_ids: param that will be passed to the constructor of the DeviceAPI instance\u001b[39;00m\n\u001b[1;32m    183\u001b[0m \u001b[39m:return: a DeviceAPI instance\u001b[39;00m\n\u001b[1;32m    184\u001b[0m \u001b[39m\"\"\"\u001b[39;00m\n\u001b[1;32m    185\u001b[0m \u001b[39mif\u001b[39;00m device \u001b[39m==\u001b[39m Device\u001b[39m.\u001b[39mPKG:\n\u001b[0;32m--> 186\u001b[0m     \u001b[39mreturn\u001b[39;00m PkgAPI(socket_ids)\n\u001b[1;32m    187\u001b[0m \u001b[39mif\u001b[39;00m device \u001b[39m==\u001b[39m Device\u001b[39m.\u001b[39mDRAM:\n\u001b[1;32m    188\u001b[0m     \u001b[39mreturn\u001b[39;00m DramAPI(socket_ids)\n",
      "File \u001b[0;32m~/anaconda3/envs/QC/lib/python3.9/site-packages/pyRAPL/device_api.py:137\u001b[0m, in \u001b[0;36mPkgAPI.__init__\u001b[0;34m(self, socket_ids)\u001b[0m\n\u001b[1;32m    136\u001b[0m \u001b[39mdef\u001b[39;00m \u001b[39m__init__\u001b[39m(\u001b[39mself\u001b[39m, socket_ids: Optional[\u001b[39mint\u001b[39m] \u001b[39m=\u001b[39m \u001b[39mNone\u001b[39;00m):\n\u001b[0;32m--> 137\u001b[0m     DeviceAPI\u001b[39m.\u001b[39;49m\u001b[39m__init__\u001b[39;49m(\u001b[39mself\u001b[39;49m, socket_ids)\n",
      "File \u001b[0;32m~/anaconda3/envs/QC/lib/python3.9/site-packages/pyRAPL/device_api.py:68\u001b[0m, in \u001b[0;36mDeviceAPI.__init__\u001b[0;34m(self, socket_ids)\u001b[0m\n\u001b[1;32m     60\u001b[0m \u001b[39mdef\u001b[39;00m \u001b[39m__init__\u001b[39m(\u001b[39mself\u001b[39m, socket_ids: Optional[List[\u001b[39mint\u001b[39m]] \u001b[39m=\u001b[39m \u001b[39mNone\u001b[39;00m):\n\u001b[1;32m     61\u001b[0m \u001b[39m    \u001b[39m\u001b[39m\"\"\"\u001b[39;00m\n\u001b[1;32m     62\u001b[0m \u001b[39m    :param int socket_ids: if None, the API will get the energy consumption of the whole machine otherwise, it will\u001b[39;00m\n\u001b[1;32m     63\u001b[0m \u001b[39m                           get the energy consumption of the device on the given socket package\u001b[39;00m\n\u001b[0;32m   (...)\u001b[0m\n\u001b[1;32m     66\u001b[0m \u001b[39m    :raise PyRAPLBadSocketIdException: the machine where is initialised the DeviceAPI has no the requested socket\u001b[39;00m\n\u001b[1;32m     67\u001b[0m \u001b[39m    \"\"\"\u001b[39;00m\n\u001b[0;32m---> 68\u001b[0m     all_socket_id \u001b[39m=\u001b[39m get_socket_ids()\n\u001b[1;32m     69\u001b[0m     \u001b[39mif\u001b[39;00m socket_ids \u001b[39mis\u001b[39;00m \u001b[39mNone\u001b[39;00m:\n\u001b[1;32m     70\u001b[0m         \u001b[39mself\u001b[39m\u001b[39m.\u001b[39m_socket_ids \u001b[39m=\u001b[39m all_socket_id\n",
      "File \u001b[0;32m~/anaconda3/envs/QC/lib/python3.9/site-packages/pyRAPL/device_api.py:49\u001b[0m, in \u001b[0;36mget_socket_ids\u001b[0;34m()\u001b[0m\n\u001b[1;32m     45\u001b[0m \u001b[39m\u001b[39m\u001b[39m\"\"\"\u001b[39;00m\n\u001b[1;32m     46\u001b[0m \u001b[39mreturn cpu socket id present on the machine\u001b[39;00m\n\u001b[1;32m     47\u001b[0m \u001b[39m\"\"\"\u001b[39;00m\n\u001b[1;32m     48\u001b[0m socket_id_list \u001b[39m=\u001b[39m []\n\u001b[0;32m---> 49\u001b[0m \u001b[39mfor\u001b[39;00m cpu_id \u001b[39min\u001b[39;00m cpu_ids():\n\u001b[1;32m     50\u001b[0m     api_file \u001b[39m=\u001b[39m \u001b[39mopen\u001b[39m(\u001b[39m'\u001b[39m\u001b[39m/sys/devices/system/cpu/cpu\u001b[39m\u001b[39m'\u001b[39m \u001b[39m+\u001b[39m \u001b[39mstr\u001b[39m(cpu_id) \u001b[39m+\u001b[39m \u001b[39m'\u001b[39m\u001b[39m/topology/physical_package_id\u001b[39m\u001b[39m'\u001b[39m)\n\u001b[1;32m     51\u001b[0m     socket_id_list\u001b[39m.\u001b[39mappend(\u001b[39mint\u001b[39m(api_file\u001b[39m.\u001b[39mreadline()\u001b[39m.\u001b[39mstrip()))\n",
      "File \u001b[0;32m~/anaconda3/envs/QC/lib/python3.9/site-packages/pyRAPL/device_api.py:31\u001b[0m, in \u001b[0;36mcpu_ids\u001b[0;34m()\u001b[0m\n\u001b[1;32m     27\u001b[0m \u001b[39mdef\u001b[39;00m \u001b[39mcpu_ids\u001b[39m() \u001b[39m-\u001b[39m\u001b[39m>\u001b[39m List[\u001b[39mint\u001b[39m]:\n\u001b[1;32m     28\u001b[0m \u001b[39m    \u001b[39m\u001b[39m\"\"\"\u001b[39;00m\n\u001b[1;32m     29\u001b[0m \u001b[39m    return the cpu id of this machine\u001b[39;00m\n\u001b[1;32m     30\u001b[0m \u001b[39m    \"\"\"\u001b[39;00m\n\u001b[0;32m---> 31\u001b[0m     api_file \u001b[39m=\u001b[39m \u001b[39mopen\u001b[39;49m(\u001b[39m'\u001b[39;49m\u001b[39m/sys/devices/system/cpu/present\u001b[39;49m\u001b[39m'\u001b[39;49m, \u001b[39m'\u001b[39;49m\u001b[39mr\u001b[39;49m\u001b[39m'\u001b[39;49m)\n\u001b[1;32m     33\u001b[0m     cpu_id_tmp \u001b[39m=\u001b[39m re\u001b[39m.\u001b[39mfindall(\u001b[39m'\u001b[39m\u001b[39m\\\u001b[39m\u001b[39md+|-\u001b[39m\u001b[39m'\u001b[39m, api_file\u001b[39m.\u001b[39mreadline()\u001b[39m.\u001b[39mstrip())\n\u001b[1;32m     34\u001b[0m     cpu_id_list \u001b[39m=\u001b[39m []\n",
      "\u001b[0;31mFileNotFoundError\u001b[0m: [Errno 2] No such file or directory: '/sys/devices/system/cpu/present'"
     ]
    }
   ],
   "source": [
    "\n",
    "# n_pennylane, energy_pennylane = run_vqe(device= \"default.qubit\",\n",
    "#                     source_path = \"part1.txt\",\n",
    "#                     positive_energy_flag = \"True\",\n",
    "#                     reps = 1,\n",
    "#                     skip_final_rotation_layer = \"True\")\n",
    "\n"
   ]
  },
  {
   "cell_type": "code",
   "execution_count": null,
   "metadata": {},
   "outputs": [],
   "source": [
    "start = timer()\n",
    "n_sv1, energy_sv1 = run_vqe(device= \"braket.aws.qubit\",\n",
    "                    source_path = \"part1.txt\",\n",
    "                    positive_energy_flag = \"True\",\n",
    "                    reps = 1,\n",
    "                    skip_final_rotation_layer = \"True\")\n",
    "end = timer()\n",
    "print(\"sv1\")\n",
    "print(\"time elapsed:\", end - start)\n",
    "print(\"number of iterations:\", len(n_sv1))"
   ]
  },
  {
   "cell_type": "code",
   "execution_count": null,
   "metadata": {},
   "outputs": [],
   "source": [
    "#plt.plot(n_pennylane, energy_pennylane, label = 'pennylane')\n",
    "plt.xlabel('iterations')\n",
    "plt.ylabel('energy')\n",
    "plt.plot(n_sv1, energy_sv1, label = 'sv1')\n",
    "plt.legend()\n",
    "plt.show()"
   ]
  },
  {
   "cell_type": "code",
   "execution_count": null,
   "metadata": {},
   "outputs": [],
   "source": []
  }
 ],
 "metadata": {
  "kernelspec": {
   "display_name": "Python 3.9.5 ('QC')",
   "language": "python",
   "name": "python3"
  },
  "language_info": {
   "codemirror_mode": {
    "name": "ipython",
    "version": 3
   },
   "file_extension": ".py",
   "mimetype": "text/x-python",
   "name": "python",
   "nbconvert_exporter": "python",
   "pygments_lexer": "ipython3",
   "version": "3.9.5"
  },
  "orig_nbformat": 4,
  "vscode": {
   "interpreter": {
    "hash": "bd37e5054b4833a414829d03571d1c480f42f3711e810129dc8e959ff79337be"
   }
  }
 },
 "nbformat": 4,
 "nbformat_minor": 2
}
