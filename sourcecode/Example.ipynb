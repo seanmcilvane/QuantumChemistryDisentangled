{
 "cells": [
  {
   "cell_type": "code",
   "execution_count": 5,
   "metadata": {},
   "outputs": [],
   "source": [
    "from VQE_function import run_vqe\n",
    "import matplotlib\n",
    "from matplotlib import pyplot as plt\n",
    "import energyusage\n",
    "import json\n",
    "from timeit import default_timer as timer\n",
    "import numpy as np"
   ]
  },
  {
   "cell_type": "code",
   "execution_count": null,
   "metadata": {},
   "outputs": [],
   "source": [
    "part_path = \"part0.txt\"\n",
    "\n",
    "start = timer()\n",
    "\n",
    "n_pennylane, energy_pennylane = run_vqe(cloud_provider = \"pennylane\", \n",
    "                    device= \"default.qubit\",\n",
    "                    source_path = part_path,\n",
    "                    positive_energy_flag = \"True\",\n",
    "                    reps = 1,\n",
    "                    skip_final_rotation_layer = \"True\")\n",
    "end = timer()\n",
    "\n",
    "print(\"time elapsed:\", end - start),\n",
    "print(\"number of iterations:\", len(n_pennylane)),\n",
    "pennylane_dict = {\"n_iterations\": n_pennylane,\n",
    "                     \"energy_list\": energy_pennylane,\n",
    "                     \"run_time\": end-start}\n",
    "#with open(f'results/beh2/part4/pennylane-defaultqubit.txt','w+') as pennylane_file:\n",
    "with open(f'../results/woo', 'w+') as pennylane_file:\n",
    "    pennylane_file.write(json.dumps(pennylane_dict))"
   ]
  },
  {
   "cell_type": "code",
   "execution_count": 4,
   "metadata": {},
   "outputs": [
    {
     "name": "stdout",
     "output_type": "stream",
     "text": [
      "hi\n",
      "time elapsed: 1052.7546965889999\n",
      "number of iterations: 5\n"
     ]
    }
   ],
   "source": [
    "part_path = \"part3.txt\"\n",
    "\n",
    "start = timer()\n",
    "\n",
    "n_ibmq, energy_ibmq = run_vqe(cloud_provider = \"ibm\", device=\"ibmq\",\n",
    "                    source_path = part_path,\n",
    "                    positive_energy_flag = \"True\",\n",
    "                    reps = 1,\n",
    "                    skip_final_rotation_layer = \"True\")\n",
    "end = timer()\n",
    "\n",
    "print(\"time elapsed:\", end - start),\n",
    "print(\"number of iterations:\", len(n_ibmq)),\n",
    "ibmq_dict = {\"n_iterations\": n_ibmq,\n",
    "                     \"energy_list\": energy_ibmq,\n",
    "                     \"run_time\": end-start}\n",
    "#with open(f'results/beh2/part4/pennylane-defaultqubit.txt','w+') as pennylane_file:\n",
    "with open(f'../results/beh2/ibmq.txt', 'w+') as ibmq_file:\n",
    "    ibmq_file.write(json.dumps(ibmq_dict))\n",
    "\n"
   ]
  },
  {
   "cell_type": "code",
   "execution_count": 2,
   "metadata": {},
   "outputs": [
    {
     "name": "stdout",
     "output_type": "stream",
     "text": [
      "sv1\n",
      "time elapsed: 2287.830387731\n",
      "number of iterations: 192\n"
     ]
    }
   ],
   "source": [
    "try: \n",
    "    start = timer()\n",
    "    device = \"braket.aws.qubit\"\n",
    "    cloud_provider = \"sv1\"\n",
    "    n_sv1, energy_sv1 = run_vqe(cloud_provider = cloud_provider,\n",
    "                    device= \"braket.aws.qubit\",\n",
    "                    source_path = \"part4.txt\",\n",
    "                    positive_energy_flag = \"True\",\n",
    "                    reps = 1,\n",
    "                    skip_final_rotation_layer = \"True\")\n",
    "    end = timer()\n",
    "    print(\"sv1\")\n",
    "    print(\"time elapsed:\", end - start)\n",
    "    print(\"number of iterations:\", len(n_sv1))\n",
    "\n",
    "    sv1_dict = {\"n_iterations\": n_sv1,\n",
    "                     \"energy_list\": [float(energy_sv1[i]) for i in range(len(energy_sv1))],\n",
    "                     \"run_time\": end-start}\n",
    "    with open(f'results/beh2/part4/braket-sv1.txt','w+') as pennylane_file:\n",
    "        pennylane_file.write(json.dumps(sv1_dict))\n",
    "except:\n",
    "    print(\"something went wrong\")\n"
   ]
  },
  {
   "cell_type": "code",
   "execution_count": 3,
   "metadata": {},
   "outputs": [
    {
     "name": "stdout",
     "output_type": "stream",
     "text": [
      "sv1\n",
      "time elapsed: 672.8581588970001\n",
      "number of iterations: 180\n"
     ]
    }
   ],
   "source": [
    "try: \n",
    "    start = timer()\n",
    "    device = \"braket.aws.qubit\"\n",
    "    cloud_provider = \"sv1\"\n",
    "    n_sv1, energy_sv1 = run_vqe(cloud_provider = cloud_provider,\n",
    "                    device= \"braket.aws.qubit\",\n",
    "                    source_path = \"part5.txt\",\n",
    "                    positive_energy_flag = \"True\",\n",
    "                    reps = 1,\n",
    "                    skip_final_rotation_layer = \"True\")\n",
    "    end = timer()\n",
    "    print(\"sv1\")\n",
    "    print(\"time elapsed:\", end - start)\n",
    "    print(\"number of iterations:\", len(n_sv1))\n",
    "\n",
    "    sv1_dict = {\"n_iterations\": n_sv1,\n",
    "                     \"energy_list\": [float(energy_sv1[i]) for i in range(len(energy_sv1))],\n",
    "                     \"run_time\": end-start}\n",
    "    with open(f'results/beh2/part5/braket-sv1.txt','w+') as pennylane_file:\n",
    "        pennylane_file.write(json.dumps(sv1_dict))\n",
    "except:\n",
    "    print(\"something went wrong\")\n"
   ]
  },
  {
   "cell_type": "code",
   "execution_count": 4,
   "metadata": {},
   "outputs": [
    {
     "name": "stdout",
     "output_type": "stream",
     "text": [
      "sv1\n",
      "time elapsed: 1351.994212306\n",
      "number of iterations: 183\n"
     ]
    }
   ],
   "source": [
    "try: \n",
    "    start = timer()\n",
    "    device = \"braket.aws.qubit\"\n",
    "    cloud_provider = \"sv1\"\n",
    "    n_sv1, energy_sv1 = run_vqe(cloud_provider = cloud_provider,\n",
    "                    device= \"braket.aws.qubit\",\n",
    "                    source_path = \"part6.txt\",\n",
    "                    positive_energy_flag = \"True\",\n",
    "                    reps = 1,\n",
    "                    skip_final_rotation_layer = \"True\")\n",
    "    end = timer()\n",
    "    print(\"sv1\")\n",
    "    print(\"time elapsed:\", end - start)\n",
    "    print(\"number of iterations:\", len(n_sv1))\n",
    "\n",
    "    sv1_dict = {\"n_iterations\": n_sv1,\n",
    "                     \"energy_list\": [float(energy_sv1[i]) for i in range(len(energy_sv1))],\n",
    "                     \"run_time\": end-start}\n",
    "    with open(f'results/beh2/part6/braket-sv1.txt','w+') as pennylane_file:\n",
    "        pennylane_file.write(json.dumps(sv1_dict))\n",
    "except:\n",
    "    print(\"something went wrong\")"
   ]
  },
  {
   "cell_type": "code",
   "execution_count": 5,
   "metadata": {},
   "outputs": [
    {
     "name": "stderr",
     "output_type": "stream",
     "text": [
      "INFO:backoff:Backing off get_quantum_task(...) for 0.5s (botocore.errorfactory.ResourceNotFoundException: An error occurred (ResourceNotFoundException) when calling the GetQuantumTask operation: Quantum task 0f140020-2b18-40b3-a8d4-58764705a6fb not found)\n"
     ]
    },
    {
     "name": "stdout",
     "output_type": "stream",
     "text": [
      "something went wrong\n"
     ]
    }
   ],
   "source": [
    "try: \n",
    "    start = timer()\n",
    "    device = \"braket.aws.qubit\"\n",
    "    cloud_provider = \"lucy\"\n",
    "    n_sv1, energy_sv1 = run_vqe(cloud_provider = cloud_provider,\n",
    "                    device= \"braket.aws.qubit\",\n",
    "                    source_path = \"part0.txt\",\n",
    "                    positive_energy_flag = \"True\",\n",
    "                    reps = 1,\n",
    "                    skip_final_rotation_layer = \"True\")\n",
    "    end = timer()\n",
    "    print(\"sv1\")\n",
    "    print(\"time elapsed:\", end - start)\n",
    "    print(\"number of iterations:\", len(n_sv1))\n",
    "\n",
    "    sv1_dict = {\"n_iterations\": n_sv1,\n",
    "                     \"energy_list\": [float(energy_sv1[i]) for i in range(len(energy_sv1))],\n",
    "                     \"run_time\": end-start}\n",
    "    with open(f'results/beh2/part0/braket-lucy.txt','w+') as pennylane_file:\n",
    "        pennylane_file.write(json.dumps(sv1_dict))\n",
    "except:\n",
    "    print(\"something went wrong\")\n"
   ]
  },
  {
   "cell_type": "code",
   "execution_count": 2,
   "metadata": {},
   "outputs": [
    {
     "ename": "AccessDeniedException",
     "evalue": "An error occurred (AccessDeniedException) when calling the CreateQuantumTask operation: This account is not authorized to use this resource. In order to access additional resources, please contact customer support",
     "output_type": "error",
     "traceback": [
      "\u001b[0;31m---------------------------------------------------------------------------\u001b[0m",
      "\u001b[0;31mAccessDeniedException\u001b[0m                     Traceback (most recent call last)",
      "\u001b[1;32m/Users/seanmcilvane/Desktop/QuantumChemistryDisentangled/sourcecode/Example.ipynb Cell 7\u001b[0m in \u001b[0;36m<cell line: 4>\u001b[0;34m()\u001b[0m\n\u001b[1;32m      <a href='vscode-notebook-cell:/Users/seanmcilvane/Desktop/QuantumChemistryDisentangled/sourcecode/Example.ipynb#ch0000006?line=1'>2</a>\u001b[0m device \u001b[39m=\u001b[39m \u001b[39m\"\u001b[39m\u001b[39mbraket.aws.qubit\u001b[39m\u001b[39m\"\u001b[39m\n\u001b[1;32m      <a href='vscode-notebook-cell:/Users/seanmcilvane/Desktop/QuantumChemistryDisentangled/sourcecode/Example.ipynb#ch0000006?line=2'>3</a>\u001b[0m cloud_provider \u001b[39m=\u001b[39m \u001b[39m\"\u001b[39m\u001b[39mionq\u001b[39m\u001b[39m\"\u001b[39m\n\u001b[0;32m----> <a href='vscode-notebook-cell:/Users/seanmcilvane/Desktop/QuantumChemistryDisentangled/sourcecode/Example.ipynb#ch0000006?line=3'>4</a>\u001b[0m n_sv1, energy_sv1 \u001b[39m=\u001b[39m run_vqe(cloud_provider \u001b[39m=\u001b[39;49m cloud_provider,\n\u001b[1;32m      <a href='vscode-notebook-cell:/Users/seanmcilvane/Desktop/QuantumChemistryDisentangled/sourcecode/Example.ipynb#ch0000006?line=4'>5</a>\u001b[0m                     device\u001b[39m=\u001b[39;49m \u001b[39m\"\u001b[39;49m\u001b[39mbraket.aws.qubit\u001b[39;49m\u001b[39m\"\u001b[39;49m,\n\u001b[1;32m      <a href='vscode-notebook-cell:/Users/seanmcilvane/Desktop/QuantumChemistryDisentangled/sourcecode/Example.ipynb#ch0000006?line=5'>6</a>\u001b[0m                     source_path \u001b[39m=\u001b[39;49m \u001b[39m\"\u001b[39;49m\u001b[39mpart0.txt\u001b[39;49m\u001b[39m\"\u001b[39;49m,\n\u001b[1;32m      <a href='vscode-notebook-cell:/Users/seanmcilvane/Desktop/QuantumChemistryDisentangled/sourcecode/Example.ipynb#ch0000006?line=6'>7</a>\u001b[0m                     positive_energy_flag \u001b[39m=\u001b[39;49m \u001b[39m\"\u001b[39;49m\u001b[39mTrue\u001b[39;49m\u001b[39m\"\u001b[39;49m,\n\u001b[1;32m      <a href='vscode-notebook-cell:/Users/seanmcilvane/Desktop/QuantumChemistryDisentangled/sourcecode/Example.ipynb#ch0000006?line=7'>8</a>\u001b[0m                     reps \u001b[39m=\u001b[39;49m \u001b[39m1\u001b[39;49m,\n\u001b[1;32m      <a href='vscode-notebook-cell:/Users/seanmcilvane/Desktop/QuantumChemistryDisentangled/sourcecode/Example.ipynb#ch0000006?line=8'>9</a>\u001b[0m                     skip_final_rotation_layer \u001b[39m=\u001b[39;49m \u001b[39m\"\u001b[39;49m\u001b[39mTrue\u001b[39;49m\u001b[39m\"\u001b[39;49m)\n\u001b[1;32m     <a href='vscode-notebook-cell:/Users/seanmcilvane/Desktop/QuantumChemistryDisentangled/sourcecode/Example.ipynb#ch0000006?line=9'>10</a>\u001b[0m end \u001b[39m=\u001b[39m timer()\n\u001b[1;32m     <a href='vscode-notebook-cell:/Users/seanmcilvane/Desktop/QuantumChemistryDisentangled/sourcecode/Example.ipynb#ch0000006?line=10'>11</a>\u001b[0m \u001b[39mprint\u001b[39m(\u001b[39m\"\u001b[39m\u001b[39msv1\u001b[39m\u001b[39m\"\u001b[39m)\n",
      "File \u001b[0;32m~/Desktop/QuantumChemistryDisentangled/sourcecode/VQE_function.py:93\u001b[0m, in \u001b[0;36mrun_vqe\u001b[0;34m(cloud_provider, device, source_path, positive_energy_flag, reps, skip_final_rotation_layer)\u001b[0m\n\u001b[1;32m     89\u001b[0m energy_list \u001b[39m=\u001b[39m []\n\u001b[1;32m     92\u001b[0m \u001b[39mfor\u001b[39;00m n \u001b[39min\u001b[39;00m \u001b[39mrange\u001b[39m(\u001b[39m5\u001b[39m):\n\u001b[0;32m---> 93\u001b[0m     params, energy \u001b[39m=\u001b[39m optimizer\u001b[39m.\u001b[39;49mstep_and_cost(cost_function, params,\n\u001b[1;32m     94\u001b[0m                                             wires\u001b[39m=\u001b[39;49m\u001b[39mrange\u001b[39;49m(qubits), reps\u001b[39m=\u001b[39;49mreps, \n\u001b[1;32m     95\u001b[0m                                             skip_final_rotation_layer\u001b[39m=\u001b[39;49mskip_final_rotation_layer)\n\u001b[1;32m     98\u001b[0m     \u001b[39mif\u001b[39;00m positive_energy_flag \u001b[39m==\u001b[39m \u001b[39m\"\u001b[39m\u001b[39mTrue\u001b[39m\u001b[39m\"\u001b[39m:\n\u001b[1;32m     99\u001b[0m         energy \u001b[39m*\u001b[39m\u001b[39m=\u001b[39m \u001b[39m-\u001b[39m\u001b[39m1\u001b[39m\n",
      "File \u001b[0;32m~/anaconda3/envs/QC/lib/python3.9/site-packages/pennylane/optimize/gradient_descent.py:59\u001b[0m, in \u001b[0;36mGradientDescentOptimizer.step_and_cost\u001b[0;34m(self, objective_fn, grad_fn, *args, **kwargs)\u001b[0m\n\u001b[1;32m     39\u001b[0m \u001b[39mdef\u001b[39;00m \u001b[39mstep_and_cost\u001b[39m(\u001b[39mself\u001b[39m, objective_fn, \u001b[39m*\u001b[39margs, grad_fn\u001b[39m=\u001b[39m\u001b[39mNone\u001b[39;00m, \u001b[39m*\u001b[39m\u001b[39m*\u001b[39mkwargs):\n\u001b[1;32m     40\u001b[0m \u001b[39m    \u001b[39m\u001b[39m\"\"\"Update trainable arguments with one step of the optimizer and return the corresponding\u001b[39;00m\n\u001b[1;32m     41\u001b[0m \u001b[39m    objective function value prior to the step.\u001b[39;00m\n\u001b[1;32m     42\u001b[0m \n\u001b[0;32m   (...)\u001b[0m\n\u001b[1;32m     56\u001b[0m \u001b[39m        If single arg is provided, list [array] is replaced by array.\u001b[39;00m\n\u001b[1;32m     57\u001b[0m \u001b[39m    \"\"\"\u001b[39;00m\n\u001b[0;32m---> 59\u001b[0m     g, forward \u001b[39m=\u001b[39m \u001b[39mself\u001b[39;49m\u001b[39m.\u001b[39;49mcompute_grad(objective_fn, args, kwargs, grad_fn\u001b[39m=\u001b[39;49mgrad_fn)\n\u001b[1;32m     60\u001b[0m     new_args \u001b[39m=\u001b[39m \u001b[39mself\u001b[39m\u001b[39m.\u001b[39mapply_grad(g, args)\n\u001b[1;32m     62\u001b[0m     \u001b[39mif\u001b[39;00m forward \u001b[39mis\u001b[39;00m \u001b[39mNone\u001b[39;00m:\n",
      "File \u001b[0;32m~/anaconda3/envs/QC/lib/python3.9/site-packages/pennylane/optimize/gradient_descent.py:117\u001b[0m, in \u001b[0;36mGradientDescentOptimizer.compute_grad\u001b[0;34m(objective_fn, args, kwargs, grad_fn)\u001b[0m\n\u001b[1;32m     99\u001b[0m \u001b[39m\u001b[39m\u001b[39mr\u001b[39m\u001b[39m\"\"\"Compute gradient of the objective function at the given point and return it along with\u001b[39;00m\n\u001b[1;32m    100\u001b[0m \u001b[39mthe objective function forward pass (if available).\u001b[39;00m\n\u001b[1;32m    101\u001b[0m \n\u001b[0;32m   (...)\u001b[0m\n\u001b[1;32m    114\u001b[0m \u001b[39m    will not be evaluted and instead ``None`` will be returned.\u001b[39;00m\n\u001b[1;32m    115\u001b[0m \u001b[39m\"\"\"\u001b[39;00m\n\u001b[1;32m    116\u001b[0m g \u001b[39m=\u001b[39m get_gradient(objective_fn) \u001b[39mif\u001b[39;00m grad_fn \u001b[39mis\u001b[39;00m \u001b[39mNone\u001b[39;00m \u001b[39melse\u001b[39;00m grad_fn\n\u001b[0;32m--> 117\u001b[0m grad \u001b[39m=\u001b[39m g(\u001b[39m*\u001b[39;49margs, \u001b[39m*\u001b[39;49m\u001b[39m*\u001b[39;49mkwargs)\n\u001b[1;32m    118\u001b[0m forward \u001b[39m=\u001b[39m \u001b[39mgetattr\u001b[39m(g, \u001b[39m\"\u001b[39m\u001b[39mforward\u001b[39m\u001b[39m\"\u001b[39m, \u001b[39mNone\u001b[39;00m)\n\u001b[1;32m    120\u001b[0m num_trainable_args \u001b[39m=\u001b[39m \u001b[39msum\u001b[39m(\u001b[39mgetattr\u001b[39m(arg, \u001b[39m\"\u001b[39m\u001b[39mrequires_grad\u001b[39m\u001b[39m\"\u001b[39m, \u001b[39mFalse\u001b[39;00m) \u001b[39mfor\u001b[39;00m arg \u001b[39min\u001b[39;00m args)\n",
      "File \u001b[0;32m~/anaconda3/envs/QC/lib/python3.9/site-packages/pennylane/_grad.py:115\u001b[0m, in \u001b[0;36mgrad.__call__\u001b[0;34m(self, *args, **kwargs)\u001b[0m\n\u001b[1;32m    112\u001b[0m     \u001b[39mself\u001b[39m\u001b[39m.\u001b[39m_forward \u001b[39m=\u001b[39m \u001b[39mself\u001b[39m\u001b[39m.\u001b[39m_fun(\u001b[39m*\u001b[39margs, \u001b[39m*\u001b[39m\u001b[39m*\u001b[39mkwargs)\n\u001b[1;32m    113\u001b[0m     \u001b[39mreturn\u001b[39;00m ()\n\u001b[0;32m--> 115\u001b[0m grad_value, ans \u001b[39m=\u001b[39m grad_fn(\u001b[39m*\u001b[39;49margs, \u001b[39m*\u001b[39;49m\u001b[39m*\u001b[39;49mkwargs)\n\u001b[1;32m    116\u001b[0m \u001b[39mself\u001b[39m\u001b[39m.\u001b[39m_forward \u001b[39m=\u001b[39m ans\n\u001b[1;32m    118\u001b[0m \u001b[39mreturn\u001b[39;00m grad_value\n",
      "File \u001b[0;32m~/anaconda3/envs/QC/lib/python3.9/site-packages/autograd/wrap_util.py:20\u001b[0m, in \u001b[0;36munary_to_nary.<locals>.nary_operator.<locals>.nary_f\u001b[0;34m(*args, **kwargs)\u001b[0m\n\u001b[1;32m     18\u001b[0m \u001b[39melse\u001b[39;00m:\n\u001b[1;32m     19\u001b[0m     x \u001b[39m=\u001b[39m \u001b[39mtuple\u001b[39m(args[i] \u001b[39mfor\u001b[39;00m i \u001b[39min\u001b[39;00m argnum)\n\u001b[0;32m---> 20\u001b[0m \u001b[39mreturn\u001b[39;00m unary_operator(unary_f, x, \u001b[39m*\u001b[39;49mnary_op_args, \u001b[39m*\u001b[39;49m\u001b[39m*\u001b[39;49mnary_op_kwargs)\n",
      "File \u001b[0;32m~/anaconda3/envs/QC/lib/python3.9/site-packages/pennylane/_grad.py:133\u001b[0m, in \u001b[0;36mgrad._grad_with_forward\u001b[0;34m(fun, x)\u001b[0m\n\u001b[1;32m    127\u001b[0m \u001b[39m@staticmethod\u001b[39m\n\u001b[1;32m    128\u001b[0m \u001b[39m@unary_to_nary\u001b[39m\n\u001b[1;32m    129\u001b[0m \u001b[39mdef\u001b[39;00m \u001b[39m_grad_with_forward\u001b[39m(fun, x):\n\u001b[1;32m    130\u001b[0m \u001b[39m    \u001b[39m\u001b[39m\"\"\"This function is a replica of ``autograd.grad``, with the only\u001b[39;00m\n\u001b[1;32m    131\u001b[0m \u001b[39m    difference being that it returns both the gradient *and* the forward pass\u001b[39;00m\n\u001b[1;32m    132\u001b[0m \u001b[39m    value.\"\"\"\u001b[39;00m\n\u001b[0;32m--> 133\u001b[0m     vjp, ans \u001b[39m=\u001b[39m _make_vjp(fun, x)\n\u001b[1;32m    135\u001b[0m     \u001b[39mif\u001b[39;00m \u001b[39mnot\u001b[39;00m vspace(ans)\u001b[39m.\u001b[39msize \u001b[39m==\u001b[39m \u001b[39m1\u001b[39m:\n\u001b[1;32m    136\u001b[0m         \u001b[39mraise\u001b[39;00m \u001b[39mTypeError\u001b[39;00m(\n\u001b[1;32m    137\u001b[0m             \u001b[39m\"\u001b[39m\u001b[39mGrad only applies to real scalar-output functions. \u001b[39m\u001b[39m\"\u001b[39m\n\u001b[1;32m    138\u001b[0m             \u001b[39m\"\u001b[39m\u001b[39mTry jacobian, elementwise_grad or holomorphic_grad.\u001b[39m\u001b[39m\"\u001b[39m\n\u001b[1;32m    139\u001b[0m         )\n",
      "File \u001b[0;32m~/anaconda3/envs/QC/lib/python3.9/site-packages/autograd/core.py:10\u001b[0m, in \u001b[0;36mmake_vjp\u001b[0;34m(fun, x)\u001b[0m\n\u001b[1;32m      8\u001b[0m \u001b[39mdef\u001b[39;00m \u001b[39mmake_vjp\u001b[39m(fun, x):\n\u001b[1;32m      9\u001b[0m     start_node \u001b[39m=\u001b[39m VJPNode\u001b[39m.\u001b[39mnew_root()\n\u001b[0;32m---> 10\u001b[0m     end_value, end_node \u001b[39m=\u001b[39m  trace(start_node, fun, x)\n\u001b[1;32m     11\u001b[0m     \u001b[39mif\u001b[39;00m end_node \u001b[39mis\u001b[39;00m \u001b[39mNone\u001b[39;00m:\n\u001b[1;32m     12\u001b[0m         \u001b[39mdef\u001b[39;00m \u001b[39mvjp\u001b[39m(g): \u001b[39mreturn\u001b[39;00m vspace(x)\u001b[39m.\u001b[39mzeros()\n",
      "File \u001b[0;32m~/anaconda3/envs/QC/lib/python3.9/site-packages/autograd/tracer.py:10\u001b[0m, in \u001b[0;36mtrace\u001b[0;34m(start_node, fun, x)\u001b[0m\n\u001b[1;32m      8\u001b[0m \u001b[39mwith\u001b[39;00m trace_stack\u001b[39m.\u001b[39mnew_trace() \u001b[39mas\u001b[39;00m t:\n\u001b[1;32m      9\u001b[0m     start_box \u001b[39m=\u001b[39m new_box(x, t, start_node)\n\u001b[0;32m---> 10\u001b[0m     end_box \u001b[39m=\u001b[39m fun(start_box)\n\u001b[1;32m     11\u001b[0m     \u001b[39mif\u001b[39;00m isbox(end_box) \u001b[39mand\u001b[39;00m end_box\u001b[39m.\u001b[39m_trace \u001b[39m==\u001b[39m start_box\u001b[39m.\u001b[39m_trace:\n\u001b[1;32m     12\u001b[0m         \u001b[39mreturn\u001b[39;00m end_box\u001b[39m.\u001b[39m_value, end_box\u001b[39m.\u001b[39m_node\n",
      "File \u001b[0;32m~/anaconda3/envs/QC/lib/python3.9/site-packages/autograd/wrap_util.py:15\u001b[0m, in \u001b[0;36munary_to_nary.<locals>.nary_operator.<locals>.nary_f.<locals>.unary_f\u001b[0;34m(x)\u001b[0m\n\u001b[1;32m     13\u001b[0m \u001b[39melse\u001b[39;00m:\n\u001b[1;32m     14\u001b[0m     subargs \u001b[39m=\u001b[39m subvals(args, \u001b[39mzip\u001b[39m(argnum, x))\n\u001b[0;32m---> 15\u001b[0m \u001b[39mreturn\u001b[39;00m fun(\u001b[39m*\u001b[39;49msubargs, \u001b[39m*\u001b[39;49m\u001b[39m*\u001b[39;49mkwargs)\n",
      "File \u001b[0;32m~/Desktop/QuantumChemistryDisentangled/sourcecode/VQE_function.py:65\u001b[0m, in \u001b[0;36mrun_vqe.<locals>.cost_function\u001b[0;34m(params, wires, reps, skip_final_rotation_layer)\u001b[0m\n\u001b[1;32m     64\u001b[0m \u001b[39mdef\u001b[39;00m \u001b[39mcost_function\u001b[39m(params, wires, reps, skip_final_rotation_layer):\n\u001b[0;32m---> 65\u001b[0m     h_expval \u001b[39m=\u001b[39m circuit(params \u001b[39m=\u001b[39;49m params,\n\u001b[1;32m     66\u001b[0m                      wires \u001b[39m=\u001b[39;49m wires,\n\u001b[1;32m     67\u001b[0m                      reps \u001b[39m=\u001b[39;49m reps,\n\u001b[1;32m     68\u001b[0m                     skip_final_rotation_layer\u001b[39m=\u001b[39;49m skip_final_rotation_layer)\n\u001b[1;32m     69\u001b[0m     coef \u001b[39m=\u001b[39m \u001b[39m1\u001b[39m\n\u001b[1;32m     70\u001b[0m     \u001b[39mif\u001b[39;00m positive_energy_flag \u001b[39m==\u001b[39m \u001b[39m\"\u001b[39m\u001b[39mTrue\u001b[39m\u001b[39m\"\u001b[39m:\n",
      "File \u001b[0;32m~/anaconda3/envs/QC/lib/python3.9/site-packages/pennylane/qnode.py:665\u001b[0m, in \u001b[0;36mQNode.__call__\u001b[0;34m(self, *args, **kwargs)\u001b[0m\n\u001b[1;32m    661\u001b[0m     \u001b[39mself\u001b[39m\u001b[39m.\u001b[39m_update_original_device()\n\u001b[1;32m    663\u001b[0m     \u001b[39mreturn\u001b[39;00m res\n\u001b[0;32m--> 665\u001b[0m res \u001b[39m=\u001b[39m qml\u001b[39m.\u001b[39;49mexecute(\n\u001b[1;32m    666\u001b[0m     [\u001b[39mself\u001b[39;49m\u001b[39m.\u001b[39;49mtape],\n\u001b[1;32m    667\u001b[0m     device\u001b[39m=\u001b[39;49m\u001b[39mself\u001b[39;49m\u001b[39m.\u001b[39;49mdevice,\n\u001b[1;32m    668\u001b[0m     gradient_fn\u001b[39m=\u001b[39;49m\u001b[39mself\u001b[39;49m\u001b[39m.\u001b[39;49mgradient_fn,\n\u001b[1;32m    669\u001b[0m     interface\u001b[39m=\u001b[39;49m\u001b[39mself\u001b[39;49m\u001b[39m.\u001b[39;49minterface,\n\u001b[1;32m    670\u001b[0m     gradient_kwargs\u001b[39m=\u001b[39;49m\u001b[39mself\u001b[39;49m\u001b[39m.\u001b[39;49mgradient_kwargs,\n\u001b[1;32m    671\u001b[0m     override_shots\u001b[39m=\u001b[39;49moverride_shots,\n\u001b[1;32m    672\u001b[0m     \u001b[39m*\u001b[39;49m\u001b[39m*\u001b[39;49m\u001b[39mself\u001b[39;49m\u001b[39m.\u001b[39;49mexecute_kwargs,\n\u001b[1;32m    673\u001b[0m )\n\u001b[1;32m    675\u001b[0m \u001b[39mif\u001b[39;00m old_interface \u001b[39m==\u001b[39m \u001b[39m\"\u001b[39m\u001b[39mauto\u001b[39m\u001b[39m\"\u001b[39m:\n\u001b[1;32m    676\u001b[0m     \u001b[39mself\u001b[39m\u001b[39m.\u001b[39minterface \u001b[39m=\u001b[39m \u001b[39m\"\u001b[39m\u001b[39mauto\u001b[39m\u001b[39m\"\u001b[39m\n",
      "File \u001b[0;32m~/anaconda3/envs/QC/lib/python3.9/site-packages/pennylane/interfaces/execution.py:718\u001b[0m, in \u001b[0;36mexecute\u001b[0;34m(tapes, device, gradient_fn, interface, mode, gradient_kwargs, cache, cachesize, max_diff, override_shots, expand_fn, max_expansion, device_batch_transform)\u001b[0m\n\u001b[1;32m    712\u001b[0m \u001b[39mexcept\u001b[39;00m \u001b[39mImportError\u001b[39;00m \u001b[39mas\u001b[39;00m e:\n\u001b[1;32m    713\u001b[0m     \u001b[39mraise\u001b[39;00m qml\u001b[39m.\u001b[39mQuantumFunctionError(\n\u001b[1;32m    714\u001b[0m         \u001b[39mf\u001b[39m\u001b[39m\"\u001b[39m\u001b[39m{\u001b[39;00mmapped_interface\u001b[39m}\u001b[39;00m\u001b[39m not found. Please install the latest \u001b[39m\u001b[39m\"\u001b[39m\n\u001b[1;32m    715\u001b[0m         \u001b[39mf\u001b[39m\u001b[39m\"\u001b[39m\u001b[39mversion of \u001b[39m\u001b[39m{\u001b[39;00mmapped_interface\u001b[39m}\u001b[39;00m\u001b[39m to enable the \u001b[39m\u001b[39m'\u001b[39m\u001b[39m{\u001b[39;00mmapped_interface\u001b[39m}\u001b[39;00m\u001b[39m'\u001b[39m\u001b[39m interface.\u001b[39m\u001b[39m\"\u001b[39m\n\u001b[1;32m    716\u001b[0m     ) \u001b[39mfrom\u001b[39;00m \u001b[39me\u001b[39;00m\n\u001b[0;32m--> 718\u001b[0m res \u001b[39m=\u001b[39m _execute(\n\u001b[1;32m    719\u001b[0m     tapes, device, execute_fn, gradient_fn, gradient_kwargs, _n\u001b[39m=\u001b[39;49m\u001b[39m1\u001b[39;49m, max_diff\u001b[39m=\u001b[39;49mmax_diff, mode\u001b[39m=\u001b[39;49m_mode\n\u001b[1;32m    720\u001b[0m )\n\u001b[1;32m    722\u001b[0m \u001b[39mreturn\u001b[39;00m batch_fn(res)\n",
      "File \u001b[0;32m~/anaconda3/envs/QC/lib/python3.9/site-packages/pennylane/interfaces/autograd.py:78\u001b[0m, in \u001b[0;36mexecute\u001b[0;34m(tapes, device, execute_fn, gradient_fn, gradient_kwargs, _n, max_diff, mode)\u001b[0m\n\u001b[1;32m     72\u001b[0m \u001b[39m# pylint misidentifies autograd.builtins as a dict\u001b[39;00m\n\u001b[1;32m     73\u001b[0m \u001b[39m# pylint: disable=no-member\u001b[39;00m\n\u001b[1;32m     74\u001b[0m parameters \u001b[39m=\u001b[39m autograd\u001b[39m.\u001b[39mbuiltins\u001b[39m.\u001b[39mtuple(\n\u001b[1;32m     75\u001b[0m     [autograd\u001b[39m.\u001b[39mbuiltins\u001b[39m.\u001b[39mlist(t\u001b[39m.\u001b[39mget_parameters()) \u001b[39mfor\u001b[39;00m t \u001b[39min\u001b[39;00m tapes]\n\u001b[1;32m     76\u001b[0m )\n\u001b[0;32m---> 78\u001b[0m \u001b[39mreturn\u001b[39;00m _execute(\n\u001b[1;32m     79\u001b[0m     parameters,\n\u001b[1;32m     80\u001b[0m     tapes\u001b[39m=\u001b[39;49mtapes,\n\u001b[1;32m     81\u001b[0m     device\u001b[39m=\u001b[39;49mdevice,\n\u001b[1;32m     82\u001b[0m     execute_fn\u001b[39m=\u001b[39;49mexecute_fn,\n\u001b[1;32m     83\u001b[0m     gradient_fn\u001b[39m=\u001b[39;49mgradient_fn,\n\u001b[1;32m     84\u001b[0m     gradient_kwargs\u001b[39m=\u001b[39;49mgradient_kwargs,\n\u001b[1;32m     85\u001b[0m     _n\u001b[39m=\u001b[39;49m_n,\n\u001b[1;32m     86\u001b[0m     max_diff\u001b[39m=\u001b[39;49mmax_diff,\n\u001b[1;32m     87\u001b[0m )[\u001b[39m0\u001b[39m]\n",
      "File \u001b[0;32m~/anaconda3/envs/QC/lib/python3.9/site-packages/autograd/tracer.py:44\u001b[0m, in \u001b[0;36mprimitive.<locals>.f_wrapped\u001b[0;34m(*args, **kwargs)\u001b[0m\n\u001b[1;32m     42\u001b[0m parents \u001b[39m=\u001b[39m \u001b[39mtuple\u001b[39m(box\u001b[39m.\u001b[39m_node \u001b[39mfor\u001b[39;00m _     , box \u001b[39min\u001b[39;00m boxed_args)\n\u001b[1;32m     43\u001b[0m argnums \u001b[39m=\u001b[39m \u001b[39mtuple\u001b[39m(argnum    \u001b[39mfor\u001b[39;00m argnum, _   \u001b[39min\u001b[39;00m boxed_args)\n\u001b[0;32m---> 44\u001b[0m ans \u001b[39m=\u001b[39m f_wrapped(\u001b[39m*\u001b[39;49margvals, \u001b[39m*\u001b[39;49m\u001b[39m*\u001b[39;49mkwargs)\n\u001b[1;32m     45\u001b[0m node \u001b[39m=\u001b[39m node_constructor(ans, f_wrapped, argvals, kwargs, argnums, parents)\n\u001b[1;32m     46\u001b[0m \u001b[39mreturn\u001b[39;00m new_box(ans, trace, node)\n",
      "File \u001b[0;32m~/anaconda3/envs/QC/lib/python3.9/site-packages/autograd/tracer.py:48\u001b[0m, in \u001b[0;36mprimitive.<locals>.f_wrapped\u001b[0;34m(*args, **kwargs)\u001b[0m\n\u001b[1;32m     46\u001b[0m     \u001b[39mreturn\u001b[39;00m new_box(ans, trace, node)\n\u001b[1;32m     47\u001b[0m \u001b[39melse\u001b[39;00m:\n\u001b[0;32m---> 48\u001b[0m     \u001b[39mreturn\u001b[39;00m f_raw(\u001b[39m*\u001b[39;49margs, \u001b[39m*\u001b[39;49m\u001b[39m*\u001b[39;49mkwargs)\n",
      "File \u001b[0;32m~/anaconda3/envs/QC/lib/python3.9/site-packages/pennylane/interfaces/autograd.py:122\u001b[0m, in \u001b[0;36m_execute\u001b[0;34m(parameters, tapes, device, execute_fn, gradient_fn, gradient_kwargs, _n, max_diff)\u001b[0m\n\u001b[1;32m    101\u001b[0m \u001b[39m\u001b[39m\u001b[39m\"\"\"Autodifferentiable wrapper around ``Device.batch_execute``.\u001b[39;00m\n\u001b[1;32m    102\u001b[0m \n\u001b[1;32m    103\u001b[0m \u001b[39mThe signature of this function is designed to work around Autograd restrictions.\u001b[39;00m\n\u001b[0;32m   (...)\u001b[0m\n\u001b[1;32m    119\u001b[0m \u001b[39munderstand the consequences!\u001b[39;00m\n\u001b[1;32m    120\u001b[0m \u001b[39m\"\"\"\u001b[39;00m\n\u001b[1;32m    121\u001b[0m \u001b[39mwith\u001b[39;00m qml\u001b[39m.\u001b[39mtape\u001b[39m.\u001b[39mUnwrap(\u001b[39m*\u001b[39mtapes):\n\u001b[0;32m--> 122\u001b[0m     res, jacs \u001b[39m=\u001b[39m execute_fn(tapes, \u001b[39m*\u001b[39;49m\u001b[39m*\u001b[39;49mgradient_kwargs)\n\u001b[1;32m    124\u001b[0m \u001b[39mfor\u001b[39;00m i, r \u001b[39min\u001b[39;00m \u001b[39menumerate\u001b[39m(res):\n\u001b[1;32m    125\u001b[0m     \u001b[39mif\u001b[39;00m \u001b[39many\u001b[39m(\n\u001b[1;32m    126\u001b[0m         m\u001b[39m.\u001b[39mreturn_type \u001b[39min\u001b[39;00m (qml\u001b[39m.\u001b[39mmeasurements\u001b[39m.\u001b[39mCounts, qml\u001b[39m.\u001b[39mmeasurements\u001b[39m.\u001b[39mAllCounts)\n\u001b[1;32m    127\u001b[0m         \u001b[39mfor\u001b[39;00m m \u001b[39min\u001b[39;00m tapes[i]\u001b[39m.\u001b[39mmeasurements\n\u001b[1;32m    128\u001b[0m     ):\n",
      "File \u001b[0;32m~/anaconda3/envs/QC/lib/python3.9/site-packages/pennylane/interfaces/execution.py:206\u001b[0m, in \u001b[0;36mcache_execute.<locals>.wrapper\u001b[0;34m(tapes, **kwargs)\u001b[0m\n\u001b[1;32m    202\u001b[0m         \u001b[39mreturn\u001b[39;00m (res, []) \u001b[39mif\u001b[39;00m return_tuple \u001b[39melse\u001b[39;00m res\n\u001b[1;32m    204\u001b[0m \u001b[39melse\u001b[39;00m:\n\u001b[1;32m    205\u001b[0m     \u001b[39m# execute all unique tapes that do not exist in the cache\u001b[39;00m\n\u001b[0;32m--> 206\u001b[0m     res \u001b[39m=\u001b[39m fn(execution_tapes\u001b[39m.\u001b[39;49mvalues(), \u001b[39m*\u001b[39;49m\u001b[39m*\u001b[39;49mkwargs)\n\u001b[1;32m    208\u001b[0m final_res \u001b[39m=\u001b[39m []\n\u001b[1;32m    210\u001b[0m \u001b[39mfor\u001b[39;00m i, tape \u001b[39min\u001b[39;00m \u001b[39menumerate\u001b[39m(tapes):\n",
      "File \u001b[0;32m~/anaconda3/envs/QC/lib/python3.9/site-packages/pennylane/interfaces/execution.py:131\u001b[0m, in \u001b[0;36mcache_execute.<locals>.fn\u001b[0;34m(tapes, **kwargs)\u001b[0m\n\u001b[1;32m    129\u001b[0m \u001b[39mdef\u001b[39;00m \u001b[39mfn\u001b[39m(tapes: Sequence[QuantumTape], \u001b[39m*\u001b[39m\u001b[39m*\u001b[39mkwargs):  \u001b[39m# pylint: disable=function-redefined\u001b[39;00m\n\u001b[1;32m    130\u001b[0m     tapes \u001b[39m=\u001b[39m [expand_fn(tape) \u001b[39mfor\u001b[39;00m tape \u001b[39min\u001b[39;00m tapes]\n\u001b[0;32m--> 131\u001b[0m     \u001b[39mreturn\u001b[39;00m original_fn(tapes, \u001b[39m*\u001b[39;49m\u001b[39m*\u001b[39;49mkwargs)\n",
      "File \u001b[0;32m~/anaconda3/envs/QC/lib/python3.9/contextlib.py:79\u001b[0m, in \u001b[0;36mContextDecorator.__call__.<locals>.inner\u001b[0;34m(*args, **kwds)\u001b[0m\n\u001b[1;32m     76\u001b[0m \u001b[39m@wraps\u001b[39m(func)\n\u001b[1;32m     77\u001b[0m \u001b[39mdef\u001b[39;00m \u001b[39minner\u001b[39m(\u001b[39m*\u001b[39margs, \u001b[39m*\u001b[39m\u001b[39m*\u001b[39mkwds):\n\u001b[1;32m     78\u001b[0m     \u001b[39mwith\u001b[39;00m \u001b[39mself\u001b[39m\u001b[39m.\u001b[39m_recreate_cm():\n\u001b[0;32m---> 79\u001b[0m         \u001b[39mreturn\u001b[39;00m func(\u001b[39m*\u001b[39;49margs, \u001b[39m*\u001b[39;49m\u001b[39m*\u001b[39;49mkwds)\n",
      "File \u001b[0;32m~/anaconda3/envs/QC/lib/python3.9/site-packages/braket/pennylane_plugin/braket_device.py:481\u001b[0m, in \u001b[0;36mBraketAwsQubitDevice.batch_execute\u001b[0;34m(self, circuits, **run_kwargs)\u001b[0m\n\u001b[1;32m    479\u001b[0m \u001b[39mdef\u001b[39;00m \u001b[39mbatch_execute\u001b[39m(\u001b[39mself\u001b[39m, circuits, \u001b[39m*\u001b[39m\u001b[39m*\u001b[39mrun_kwargs):\n\u001b[1;32m    480\u001b[0m     \u001b[39mif\u001b[39;00m \u001b[39mnot\u001b[39;00m \u001b[39mself\u001b[39m\u001b[39m.\u001b[39m_parallel:\n\u001b[0;32m--> 481\u001b[0m         \u001b[39mreturn\u001b[39;00m \u001b[39msuper\u001b[39;49m()\u001b[39m.\u001b[39;49mbatch_execute(circuits)\n\u001b[1;32m    483\u001b[0m     \u001b[39mfor\u001b[39;00m circuit \u001b[39min\u001b[39;00m circuits:\n\u001b[1;32m    484\u001b[0m         \u001b[39mself\u001b[39m\u001b[39m.\u001b[39mcheck_validity(circuit\u001b[39m.\u001b[39moperations, circuit\u001b[39m.\u001b[39mobservables)\n",
      "File \u001b[0;32m~/anaconda3/envs/QC/lib/python3.9/site-packages/pennylane/_qubit_device.py:624\u001b[0m, in \u001b[0;36mQubitDevice.batch_execute\u001b[0;34m(self, circuits)\u001b[0m\n\u001b[1;32m    621\u001b[0m     \u001b[39mself\u001b[39m\u001b[39m.\u001b[39mreset()\n\u001b[1;32m    623\u001b[0m     \u001b[39m# TODO: Insert control on value here\u001b[39;00m\n\u001b[0;32m--> 624\u001b[0m     res \u001b[39m=\u001b[39m \u001b[39mself\u001b[39;49m\u001b[39m.\u001b[39;49mexecute(circuit)\n\u001b[1;32m    625\u001b[0m     results\u001b[39m.\u001b[39mappend(res)\n\u001b[1;32m    627\u001b[0m \u001b[39mif\u001b[39;00m \u001b[39mself\u001b[39m\u001b[39m.\u001b[39mtracker\u001b[39m.\u001b[39mactive:\n",
      "File \u001b[0;32m~/anaconda3/envs/QC/lib/python3.9/site-packages/braket/pennylane_plugin/braket_device.py:309\u001b[0m, in \u001b[0;36mBraketQubitDevice.execute\u001b[0;34m(self, circuit, compute_gradient, **run_kwargs)\u001b[0m\n\u001b[1;32m    307\u001b[0m             param_dict[param_name] \u001b[39m=\u001b[39m p\n\u001b[1;32m    308\u001b[0m             param_index \u001b[39m+\u001b[39m\u001b[39m=\u001b[39m \u001b[39m1\u001b[39m\n\u001b[0;32m--> 309\u001b[0m \u001b[39mself\u001b[39m\u001b[39m.\u001b[39m_task \u001b[39m=\u001b[39m \u001b[39mself\u001b[39;49m\u001b[39m.\u001b[39;49m_run_task(\u001b[39mself\u001b[39;49m\u001b[39m.\u001b[39;49m_circuit, inputs\u001b[39m=\u001b[39;49mparam_dict)\n\u001b[1;32m    310\u001b[0m braket_result \u001b[39m=\u001b[39m \u001b[39mself\u001b[39m\u001b[39m.\u001b[39m_task\u001b[39m.\u001b[39mresult()\n\u001b[1;32m    312\u001b[0m \u001b[39mif\u001b[39;00m \u001b[39mself\u001b[39m\u001b[39m.\u001b[39mtracker\u001b[39m.\u001b[39mactive:\n",
      "File \u001b[0;32m~/anaconda3/envs/QC/lib/python3.9/site-packages/braket/pennylane_plugin/braket_device.py:524\u001b[0m, in \u001b[0;36mBraketAwsQubitDevice._run_task\u001b[0;34m(self, circuit, inputs)\u001b[0m\n\u001b[1;32m    523\u001b[0m \u001b[39mdef\u001b[39;00m \u001b[39m_run_task\u001b[39m(\u001b[39mself\u001b[39m, circuit, inputs\u001b[39m=\u001b[39m\u001b[39mNone\u001b[39;00m):\n\u001b[0;32m--> 524\u001b[0m     \u001b[39mreturn\u001b[39;00m \u001b[39mself\u001b[39;49m\u001b[39m.\u001b[39;49m_device\u001b[39m.\u001b[39;49mrun(\n\u001b[1;32m    525\u001b[0m         circuit,\n\u001b[1;32m    526\u001b[0m         s3_destination_folder\u001b[39m=\u001b[39;49m\u001b[39mself\u001b[39;49m\u001b[39m.\u001b[39;49m_s3_folder,\n\u001b[1;32m    527\u001b[0m         shots\u001b[39m=\u001b[39;49m\u001b[39m0\u001b[39;49m \u001b[39mif\u001b[39;49;00m \u001b[39mself\u001b[39;49m\u001b[39m.\u001b[39;49manalytic \u001b[39melse\u001b[39;49;00m \u001b[39mself\u001b[39;49m\u001b[39m.\u001b[39;49mshots,\n\u001b[1;32m    528\u001b[0m         poll_timeout_seconds\u001b[39m=\u001b[39;49m\u001b[39mself\u001b[39;49m\u001b[39m.\u001b[39;49m_poll_timeout_seconds,\n\u001b[1;32m    529\u001b[0m         poll_interval_seconds\u001b[39m=\u001b[39;49m\u001b[39mself\u001b[39;49m\u001b[39m.\u001b[39;49m_poll_interval_seconds,\n\u001b[1;32m    530\u001b[0m         inputs\u001b[39m=\u001b[39;49minputs \u001b[39mor\u001b[39;49;00m {},\n\u001b[1;32m    531\u001b[0m         \u001b[39m*\u001b[39;49m\u001b[39m*\u001b[39;49m\u001b[39mself\u001b[39;49m\u001b[39m.\u001b[39;49m_run_kwargs,\n\u001b[1;32m    532\u001b[0m     )\n",
      "File \u001b[0;32m~/anaconda3/envs/QC/lib/python3.9/site-packages/braket/aws/aws_device.py:162\u001b[0m, in \u001b[0;36mAwsDevice.run\u001b[0;34m(self, task_specification, s3_destination_folder, shots, poll_timeout_seconds, poll_interval_seconds, inputs, *aws_quantum_task_args, **aws_quantum_task_kwargs)\u001b[0m\n\u001b[1;32m     91\u001b[0m \u001b[39mdef\u001b[39;00m \u001b[39mrun\u001b[39m(\n\u001b[1;32m     92\u001b[0m     \u001b[39mself\u001b[39m,\n\u001b[1;32m     93\u001b[0m     task_specification: Union[\n\u001b[0;32m   (...)\u001b[0m\n\u001b[1;32m    107\u001b[0m     \u001b[39m*\u001b[39m\u001b[39m*\u001b[39maws_quantum_task_kwargs,\n\u001b[1;32m    108\u001b[0m ) \u001b[39m-\u001b[39m\u001b[39m>\u001b[39m AwsQuantumTask:\n\u001b[1;32m    109\u001b[0m \u001b[39m    \u001b[39m\u001b[39m\"\"\"\u001b[39;00m\n\u001b[1;32m    110\u001b[0m \u001b[39m    Run a quantum task specification on this device. A task can be a circuit or an\u001b[39;00m\n\u001b[1;32m    111\u001b[0m \u001b[39m    annealing problem.\u001b[39;00m\n\u001b[0;32m   (...)\u001b[0m\n\u001b[1;32m    160\u001b[0m \u001b[39m        `braket.aws.aws_quantum_task.AwsQuantumTask.create()`\u001b[39;00m\n\u001b[1;32m    161\u001b[0m \u001b[39m    \"\"\"\u001b[39;00m\n\u001b[0;32m--> 162\u001b[0m     \u001b[39mreturn\u001b[39;00m AwsQuantumTask\u001b[39m.\u001b[39;49mcreate(\n\u001b[1;32m    163\u001b[0m         \u001b[39mself\u001b[39;49m\u001b[39m.\u001b[39;49m_aws_session,\n\u001b[1;32m    164\u001b[0m         \u001b[39mself\u001b[39;49m\u001b[39m.\u001b[39;49m_arn,\n\u001b[1;32m    165\u001b[0m         task_specification,\n\u001b[1;32m    166\u001b[0m         s3_destination_folder\n\u001b[1;32m    167\u001b[0m         \u001b[39mor\u001b[39;49;00m (\n\u001b[1;32m    168\u001b[0m             AwsSession\u001b[39m.\u001b[39;49mparse_s3_uri(os\u001b[39m.\u001b[39;49menviron\u001b[39m.\u001b[39;49mget(\u001b[39m\"\u001b[39;49m\u001b[39mAMZN_BRAKET_TASK_RESULTS_S3_URI\u001b[39;49m\u001b[39m\"\u001b[39;49m))\n\u001b[1;32m    169\u001b[0m             \u001b[39mif\u001b[39;49;00m \u001b[39m\"\u001b[39;49m\u001b[39mAMZN_BRAKET_TASK_RESULTS_S3_URI\u001b[39;49m\u001b[39m\"\u001b[39;49m \u001b[39min\u001b[39;49;00m os\u001b[39m.\u001b[39;49menviron\n\u001b[1;32m    170\u001b[0m             \u001b[39melse\u001b[39;49;00m \u001b[39mNone\u001b[39;49;00m\n\u001b[1;32m    171\u001b[0m         )\n\u001b[1;32m    172\u001b[0m         \u001b[39mor\u001b[39;49;00m (\u001b[39mself\u001b[39;49m\u001b[39m.\u001b[39;49m_aws_session\u001b[39m.\u001b[39;49mdefault_bucket(), \u001b[39m\"\u001b[39;49m\u001b[39mtasks\u001b[39;49m\u001b[39m\"\u001b[39;49m),\n\u001b[1;32m    173\u001b[0m         shots \u001b[39mif\u001b[39;49;00m shots \u001b[39mis\u001b[39;49;00m \u001b[39mnot\u001b[39;49;00m \u001b[39mNone\u001b[39;49;00m \u001b[39melse\u001b[39;49;00m \u001b[39mself\u001b[39;49m\u001b[39m.\u001b[39;49m_default_shots,\n\u001b[1;32m    174\u001b[0m         poll_timeout_seconds\u001b[39m=\u001b[39;49mpoll_timeout_seconds,\n\u001b[1;32m    175\u001b[0m         poll_interval_seconds\u001b[39m=\u001b[39;49mpoll_interval_seconds,\n\u001b[1;32m    176\u001b[0m         inputs\u001b[39m=\u001b[39;49minputs,\n\u001b[1;32m    177\u001b[0m         \u001b[39m*\u001b[39;49maws_quantum_task_args,\n\u001b[1;32m    178\u001b[0m         \u001b[39m*\u001b[39;49m\u001b[39m*\u001b[39;49maws_quantum_task_kwargs,\n\u001b[1;32m    179\u001b[0m     )\n",
      "File \u001b[0;32m~/anaconda3/envs/QC/lib/python3.9/site-packages/braket/aws/aws_quantum_task.py:182\u001b[0m, in \u001b[0;36mAwsQuantumTask.create\u001b[0;34m(aws_session, device_arn, task_specification, s3_destination_folder, shots, device_parameters, disable_qubit_rewiring, tags, inputs, *args, **kwargs)\u001b[0m\n\u001b[1;32m    177\u001b[0m     \u001b[39mif\u001b[39;00m unbounded_parameters:\n\u001b[1;32m    178\u001b[0m         \u001b[39mraise\u001b[39;00m \u001b[39mValueError\u001b[39;00m(\n\u001b[1;32m    179\u001b[0m             \u001b[39mf\u001b[39m\u001b[39m\"\u001b[39m\u001b[39mCannot execute circuit with unbound parameters: \u001b[39m\u001b[39m\"\u001b[39m \u001b[39mf\u001b[39m\u001b[39m\"\u001b[39m\u001b[39m{\u001b[39;00munbounded_parameters\u001b[39m}\u001b[39;00m\u001b[39m\"\u001b[39m\n\u001b[1;32m    180\u001b[0m         )\n\u001b[0;32m--> 182\u001b[0m \u001b[39mreturn\u001b[39;00m _create_internal(\n\u001b[1;32m    183\u001b[0m     task_specification,\n\u001b[1;32m    184\u001b[0m     aws_session,\n\u001b[1;32m    185\u001b[0m     create_task_kwargs,\n\u001b[1;32m    186\u001b[0m     device_arn,\n\u001b[1;32m    187\u001b[0m     device_parameters \u001b[39mor\u001b[39;49;00m {},\n\u001b[1;32m    188\u001b[0m     disable_qubit_rewiring,\n\u001b[1;32m    189\u001b[0m     inputs,\n\u001b[1;32m    190\u001b[0m     \u001b[39m*\u001b[39;49margs,\n\u001b[1;32m    191\u001b[0m     \u001b[39m*\u001b[39;49m\u001b[39m*\u001b[39;49mkwargs,\n\u001b[1;32m    192\u001b[0m )\n",
      "File \u001b[0;32m~/anaconda3/envs/QC/lib/python3.9/functools.py:877\u001b[0m, in \u001b[0;36msingledispatch.<locals>.wrapper\u001b[0;34m(*args, **kw)\u001b[0m\n\u001b[1;32m    873\u001b[0m \u001b[39mif\u001b[39;00m \u001b[39mnot\u001b[39;00m args:\n\u001b[1;32m    874\u001b[0m     \u001b[39mraise\u001b[39;00m \u001b[39mTypeError\u001b[39;00m(\u001b[39mf\u001b[39m\u001b[39m'\u001b[39m\u001b[39m{\u001b[39;00mfuncname\u001b[39m}\u001b[39;00m\u001b[39m requires at least \u001b[39m\u001b[39m'\u001b[39m\n\u001b[1;32m    875\u001b[0m                     \u001b[39m'\u001b[39m\u001b[39m1 positional argument\u001b[39m\u001b[39m'\u001b[39m)\n\u001b[0;32m--> 877\u001b[0m \u001b[39mreturn\u001b[39;00m dispatch(args[\u001b[39m0\u001b[39;49m]\u001b[39m.\u001b[39;49m\u001b[39m__class__\u001b[39;49m)(\u001b[39m*\u001b[39;49margs, \u001b[39m*\u001b[39;49m\u001b[39m*\u001b[39;49mkw)\n",
      "File \u001b[0;32m~/anaconda3/envs/QC/lib/python3.9/site-packages/braket/aws/aws_quantum_task.py:600\u001b[0m, in \u001b[0;36m_\u001b[0;34m(circuit, aws_session, create_task_kwargs, device_arn, device_parameters, disable_qubit_rewiring, inputs, *args, **kwargs)\u001b[0m\n\u001b[1;32m    589\u001b[0m     openqasm_program \u001b[39m=\u001b[39m OpenQASMProgram(\n\u001b[1;32m    590\u001b[0m         source\u001b[39m=\u001b[39mopenqasm_program\u001b[39m.\u001b[39msource,\n\u001b[1;32m    591\u001b[0m         inputs\u001b[39m=\u001b[39minputs_copy,\n\u001b[1;32m    592\u001b[0m     )\n\u001b[1;32m    594\u001b[0m create_task_kwargs\u001b[39m.\u001b[39mupdate(\n\u001b[1;32m    595\u001b[0m     {\n\u001b[1;32m    596\u001b[0m         \u001b[39m\"\u001b[39m\u001b[39maction\u001b[39m\u001b[39m\"\u001b[39m: openqasm_program\u001b[39m.\u001b[39mjson(),\n\u001b[1;32m    597\u001b[0m         \u001b[39m\"\u001b[39m\u001b[39mdeviceParameters\u001b[39m\u001b[39m\"\u001b[39m: device_parameters\u001b[39m.\u001b[39mjson(),\n\u001b[1;32m    598\u001b[0m     }\n\u001b[1;32m    599\u001b[0m )\n\u001b[0;32m--> 600\u001b[0m task_arn \u001b[39m=\u001b[39m aws_session\u001b[39m.\u001b[39;49mcreate_quantum_task(\u001b[39m*\u001b[39;49m\u001b[39m*\u001b[39;49mcreate_task_kwargs)\n\u001b[1;32m    601\u001b[0m \u001b[39mreturn\u001b[39;00m AwsQuantumTask(task_arn, aws_session, \u001b[39m*\u001b[39margs, \u001b[39m*\u001b[39m\u001b[39m*\u001b[39mkwargs)\n",
      "File \u001b[0;32m~/anaconda3/envs/QC/lib/python3.9/site-packages/braket/aws/aws_session.py:223\u001b[0m, in \u001b[0;36mAwsSession.create_quantum_task\u001b[0;34m(self, **boto3_kwargs)\u001b[0m\n\u001b[1;32m    221\u001b[0m \u001b[39mif\u001b[39;00m job_token:\n\u001b[1;32m    222\u001b[0m     boto3_kwargs\u001b[39m.\u001b[39mupdate({\u001b[39m\"\u001b[39m\u001b[39mjobToken\u001b[39m\u001b[39m\"\u001b[39m: job_token})\n\u001b[0;32m--> 223\u001b[0m response \u001b[39m=\u001b[39m \u001b[39mself\u001b[39;49m\u001b[39m.\u001b[39;49mbraket_client\u001b[39m.\u001b[39;49mcreate_quantum_task(\u001b[39m*\u001b[39;49m\u001b[39m*\u001b[39;49mboto3_kwargs)\n\u001b[1;32m    224\u001b[0m broadcast_event(\n\u001b[1;32m    225\u001b[0m     _TaskCreationEvent(\n\u001b[1;32m    226\u001b[0m         arn\u001b[39m=\u001b[39mresponse[\u001b[39m\"\u001b[39m\u001b[39mquantumTaskArn\u001b[39m\u001b[39m\"\u001b[39m],\n\u001b[0;32m   (...)\u001b[0m\n\u001b[1;32m    230\u001b[0m     )\n\u001b[1;32m    231\u001b[0m )\n\u001b[1;32m    232\u001b[0m \u001b[39mreturn\u001b[39;00m response[\u001b[39m\"\u001b[39m\u001b[39mquantumTaskArn\u001b[39m\u001b[39m\"\u001b[39m]\n",
      "File \u001b[0;32m~/anaconda3/envs/QC/lib/python3.9/site-packages/botocore/client.py:530\u001b[0m, in \u001b[0;36mClientCreator._create_api_method.<locals>._api_call\u001b[0;34m(self, *args, **kwargs)\u001b[0m\n\u001b[1;32m    526\u001b[0m     \u001b[39mraise\u001b[39;00m \u001b[39mTypeError\u001b[39;00m(\n\u001b[1;32m    527\u001b[0m         \u001b[39mf\u001b[39m\u001b[39m\"\u001b[39m\u001b[39m{\u001b[39;00mpy_operation_name\u001b[39m}\u001b[39;00m\u001b[39m() only accepts keyword arguments.\u001b[39m\u001b[39m\"\u001b[39m\n\u001b[1;32m    528\u001b[0m     )\n\u001b[1;32m    529\u001b[0m \u001b[39m# The \"self\" in this scope is referring to the BaseClient.\u001b[39;00m\n\u001b[0;32m--> 530\u001b[0m \u001b[39mreturn\u001b[39;00m \u001b[39mself\u001b[39;49m\u001b[39m.\u001b[39;49m_make_api_call(operation_name, kwargs)\n",
      "File \u001b[0;32m~/anaconda3/envs/QC/lib/python3.9/site-packages/botocore/client.py:960\u001b[0m, in \u001b[0;36mBaseClient._make_api_call\u001b[0;34m(self, operation_name, api_params)\u001b[0m\n\u001b[1;32m    958\u001b[0m     error_code \u001b[39m=\u001b[39m parsed_response\u001b[39m.\u001b[39mget(\u001b[39m\"\u001b[39m\u001b[39mError\u001b[39m\u001b[39m\"\u001b[39m, {})\u001b[39m.\u001b[39mget(\u001b[39m\"\u001b[39m\u001b[39mCode\u001b[39m\u001b[39m\"\u001b[39m)\n\u001b[1;32m    959\u001b[0m     error_class \u001b[39m=\u001b[39m \u001b[39mself\u001b[39m\u001b[39m.\u001b[39mexceptions\u001b[39m.\u001b[39mfrom_code(error_code)\n\u001b[0;32m--> 960\u001b[0m     \u001b[39mraise\u001b[39;00m error_class(parsed_response, operation_name)\n\u001b[1;32m    961\u001b[0m \u001b[39melse\u001b[39;00m:\n\u001b[1;32m    962\u001b[0m     \u001b[39mreturn\u001b[39;00m parsed_response\n",
      "\u001b[0;31mAccessDeniedException\u001b[0m: An error occurred (AccessDeniedException) when calling the CreateQuantumTask operation: This account is not authorized to use this resource. In order to access additional resources, please contact customer support"
     ]
    }
   ],
   "source": [
    "\n",
    "start = timer()\n",
    "device = \"braket.aws.qubit\"\n",
    "cloud_provider = \"ionq\"\n",
    "n_sv1, energy_sv1 = run_vqe(cloud_provider = cloud_provider,\n",
    "                    device= \"braket.aws.qubit\",\n",
    "                    source_path = \"part0.txt\",\n",
    "                    positive_energy_flag = \"True\",\n",
    "                    reps = 1,\n",
    "                    skip_final_rotation_layer = \"True\")\n",
    "end = timer()\n",
    "print(\"sv1\")\n",
    "print(\"time elapsed:\", end - start)\n",
    "print(\"number of iterations:\", len(n_sv1))\n",
    "\n",
    "sv1_dict = {\"n_iterations\": n_sv1,\n",
    "                     \"energy_list\": [float(energy_sv1[i]) for i in range(len(energy_sv1))],\n",
    "                     \"run_time\": end-start}\n",
    "with open(f'results/beh2/part0/braket-ionq.txt','w+') as pennylane_file:\n",
    "    pennylane_file.write(json.dumps(sv1_dict))\n"
   ]
  },
  {
   "cell_type": "code",
   "execution_count": 7,
   "metadata": {},
   "outputs": [
    {
     "name": "stdout",
     "output_type": "stream",
     "text": [
      "[0, 1, 2, 3, 4, 5, 6, 7, 8, 9, 10, 11, 12, 13, 14, 15, 16, 17, 18, 19, 20, 21, 22, 23, 24, 25, 26, 27, 28, 29, 30, 31, 32, 33, 34, 35, 36, 37, 38, 39, 40, 41, 42, 43, 44, 45, 46, 47, 48, 49, 50, 51, 52, 53, 54, 55, 56, 57, 58, 59, 60, 61, 62, 63, 64, 65, 66, 67, 68, 69, 70, 71, 72, 73, 74, 75, 76, 77, 78, 79, 80, 81, 82, 83, 84, 85, 86, 87, 88, 89, 90, 91, 92, 93, 94, 95, 96, 97, 98, 99, 100, 101, 102, 103, 104, 105, 106, 107, 108, 109, 110, 111, 112, 113, 114, 115, 116, 117, 118, 119, 120, 121, 122, 123, 124, 125, 126, 127, 128, 129, 130, 131, 132, 133, 134, 135, 136, 137, 138, 139, 140, 141, 142, 143, 144, 145, 146, 147, 148, 149, 150, 151, 152, 153, 154, 155, 156, 157, 158, 159, 160, 161, 162, 163, 164, 165, 166, 167, 168, 169, 170, 171, 172, 173, 174, 175, 176, 177, 178, 179, 180, 181, 182]\n"
     ]
    }
   ],
   "source": [
    "print(n_sv1)"
   ]
  },
  {
   "cell_type": "code",
   "execution_count": 10,
   "metadata": {},
   "outputs": [
    {
     "data": {
      "image/png": "[encoded data removed]",
      "text/plain": [
       "<Figure size 432x288 with 1 Axes>"
      ]
     },
     "metadata": {
      "needs_background": "light"
     },
     "output_type": "display_data"
    }
   ],
   "source": [
    "#plt.plot(n_pennylane, energy_pennylane, label = 'pennylane')\n",
    "plt.xlabel('iterations')\n",
    "plt.ylabel('energy')\n",
    "plt.plot(n_sv1, energy_sv1, label = 'sv1')\n",
    "plt.legend()\n",
    "plt.show()"
   ]
  },
  {
   "cell_type": "code",
   "execution_count": 35,
   "metadata": {},
   "outputs": [
    {
     "name": "stdout",
     "output_type": "stream",
     "text": [
      "[tensor(1.43583719, requires_grad=True), tensor(1.51217627, requires_grad=True), tensor(1.58754743, requires_grad=True), tensor(1.68278773, requires_grad=True), tensor(1.80944048, requires_grad=True), tensor(1.97294694, requires_grad=True), tensor(2.17542032, requires_grad=True), tensor(2.41459443, requires_grad=True), tensor(2.68285106, requires_grad=True), tensor(2.96992079, requires_grad=True), tensor(3.26824708, requires_grad=True), tensor(3.56628467, requires_grad=True), tensor(3.84216503, requires_grad=True), tensor(4.06747612, requires_grad=True), tensor(4.21623643, requires_grad=True), tensor(4.27800462, requires_grad=True), tensor(4.26607143, requires_grad=True), tensor(4.20978655, requires_grad=True), tensor(4.1388425, requires_grad=True), tensor(4.07507011, requires_grad=True), tensor(4.03128262, requires_grad=True), tensor(4.01263538, requires_grad=True), tensor(4.01883868, requires_grad=True), tensor(4.04627561, requires_grad=True), tensor(4.08936559, requires_grad=True), tensor(4.14118695, requires_grad=True), tensor(4.19409208, requires_grad=True), tensor(4.24088541, requires_grad=True), tensor(4.27628342, requires_grad=True), tensor(4.29797407, requires_grad=True), tensor(4.30679649, requires_grad=True), tensor(4.30593912, requires_grad=True), tensor(4.29950187, requires_grad=True), tensor(4.2911612, requires_grad=True), tensor(4.28351783, requires_grad=True), tensor(4.27811497, requires_grad=True), tensor(4.27577399, requires_grad=True), tensor(4.27690148, requires_grad=True), tensor(4.28155579, requires_grad=True), tensor(4.28929065, requires_grad=True), tensor(4.29902635, requires_grad=True), tensor(4.30919493, requires_grad=True), tensor(4.31816634, requires_grad=True), tensor(4.32474754, requires_grad=True), tensor(4.32849579, requires_grad=True), tensor(4.32969697, requires_grad=True), tensor(4.32907513, requires_grad=True), tensor(4.3274607, requires_grad=True), tensor(4.32559903, requires_grad=True), tensor(4.32410648, requires_grad=True), tensor(4.3234659, requires_grad=True), tensor(4.32396982, requires_grad=True), tensor(4.32562145, requires_grad=True), tensor(4.32809275, requires_grad=True), tensor(4.33082276, requires_grad=True), tensor(4.33323126, requires_grad=True), tensor(4.33493094, requires_grad=True), tensor(4.33582265, requires_grad=True), tensor(4.33604401, requires_grad=True), tensor(4.3358408, requires_grad=True), tensor(4.33546053, requires_grad=True), tensor(4.3351114, requires_grad=True), tensor(4.33495704, requires_grad=True), tensor(4.3350997, requires_grad=True), tensor(4.33554432, requires_grad=True), tensor(4.33618318, requires_grad=True), tensor(4.33683886, requires_grad=True), tensor(4.33735309, requires_grad=True), tensor(4.33766221, requires_grad=True), tensor(4.33780666, requires_grad=True), tensor(4.33787567, requires_grad=True), tensor(4.33793866, requires_grad=True), tensor(4.33801598, requires_grad=True), tensor(4.33809701, requires_grad=True), tensor(4.33817261, requires_grad=True), tensor(4.33824719, requires_grad=True), tensor(4.33832731, requires_grad=True), tensor(4.33840929, requires_grad=True), tensor(4.33848346, requires_grad=True), tensor(4.33854829, requires_grad=True), tensor(4.33861492, requires_grad=True), tensor(4.33869528, requires_grad=True), tensor(4.33878698, requires_grad=True), tensor(4.33887202, requires_grad=True), tensor(4.33893065, requires_grad=True), tensor(4.33895587, requires_grad=True), tensor(4.33895561, requires_grad=True), tensor(4.33894433, requires_grad=True), tensor(4.3389351, requires_grad=True), tensor(4.33893807, requires_grad=True), tensor(4.33896077, requires_grad=True), tensor(4.33900477, requires_grad=True), tensor(4.33906095, requires_grad=True), tensor(4.33911147, requires_grad=True), tensor(4.33914016, requires_grad=True), tensor(4.33914329, requires_grad=True), tensor(4.33913094, requires_grad=True), tensor(4.33911815, requires_grad=True), tensor(4.33911475, requires_grad=True), tensor(4.33912212, requires_grad=True), tensor(4.33913661, requires_grad=True), tensor(4.33915384, requires_grad=True), tensor(4.33917007, requires_grad=True), tensor(4.33918217, requires_grad=True), tensor(4.33918848, requires_grad=True), tensor(4.33918996, requires_grad=True), tensor(4.33918958, requires_grad=True), tensor(4.33918998, requires_grad=True), tensor(4.33919183, requires_grad=True), tensor(4.3391945, requires_grad=True), tensor(4.3391976, requires_grad=True), tensor(4.33920125, requires_grad=True), tensor(4.33920519, requires_grad=True), tensor(4.33920859, requires_grad=True), tensor(4.33921087, requires_grad=True), tensor(4.33921244, requires_grad=True), tensor(4.33921405, requires_grad=True), tensor(4.33921572, requires_grad=True), tensor(4.33921681, requires_grad=True), tensor(4.33921698, requires_grad=True), tensor(4.33921682, requires_grad=True), tensor(4.33921719, requires_grad=True), tensor(4.33921843, requires_grad=True), tensor(4.33922013, requires_grad=True), tensor(4.33922175, requires_grad=True), tensor(4.33922294, requires_grad=True), tensor(4.33922356, requires_grad=True), tensor(4.33922363, requires_grad=True), tensor(4.33922338, requires_grad=True), tensor(4.33922326, requires_grad=True), tensor(4.33922353, requires_grad=True), tensor(4.33922412, requires_grad=True), tensor(4.33922474, requires_grad=True), tensor(4.33922523, requires_grad=True), tensor(4.33922562, requires_grad=True), tensor(4.33922592, requires_grad=True), tensor(4.33922609, requires_grad=True), tensor(4.33922615, requires_grad=True), tensor(4.33922617, requires_grad=True), tensor(4.33922624, requires_grad=True), tensor(4.33922633, requires_grad=True), tensor(4.33922642, requires_grad=True), tensor(4.33922656, requires_grad=True), tensor(4.33922679, requires_grad=True), tensor(4.33922704, requires_grad=True), tensor(4.33922721, requires_grad=True), tensor(4.33922724, requires_grad=True), tensor(4.33922719, requires_grad=True), tensor(4.33922711, requires_grad=True), tensor(4.33922708, requires_grad=True), tensor(4.33922714, requires_grad=True), tensor(4.33922728, requires_grad=True), tensor(4.33922744, requires_grad=True), tensor(4.33922755, requires_grad=True), tensor(4.33922757, requires_grad=True), tensor(4.33922753, requires_grad=True), tensor(4.33922748, requires_grad=True), tensor(4.33922746, requires_grad=True), tensor(4.33922747, requires_grad=True), tensor(4.33922753, requires_grad=True), tensor(4.33922761, requires_grad=True), tensor(4.33922766, requires_grad=True), tensor(4.33922767, requires_grad=True), tensor(4.33922765, requires_grad=True), tensor(4.33922764, requires_grad=True), tensor(4.33922764, requires_grad=True), tensor(4.33922765, requires_grad=True), tensor(4.33922766, requires_grad=True), tensor(4.33922768, requires_grad=True), tensor(4.3392277, requires_grad=True), tensor(4.33922771, requires_grad=True), tensor(4.33922772, requires_grad=True), tensor(4.33922772, requires_grad=True), tensor(4.33922771, requires_grad=True), tensor(4.33922771, requires_grad=True), tensor(4.33922771, requires_grad=True), tensor(4.33922772, requires_grad=True), tensor(4.33922773, requires_grad=True), tensor(4.33922774, requires_grad=True), tensor(4.33922775, requires_grad=True), tensor(4.33922774, requires_grad=True), tensor(4.33922774, requires_grad=True), tensor(4.33922773, requires_grad=True), tensor(4.33922773, requires_grad=True), tensor(4.33922774, requires_grad=True), tensor(4.33922775, requires_grad=True), tensor(4.33922775, requires_grad=True), tensor(4.33922775, requires_grad=True)]\n",
      "1.4358371947900377\n",
      "1.5121762722368524\n",
      "[1.4358371947900377, 1.5121762722368524, 1.5875474332691482, 1.6827877265872804, 1.8094404795527919, 1.9729469439714662, 2.175420324978834, 2.4145944344844015, 2.6828510622745245, 2.9699207948062396, 3.2682470757603967, 3.5662846715013097, 3.842165030330679, 4.067476116964018, 4.216236433892634, 4.27800462222464, 4.266071430788117, 4.209786549232982, 4.138842501823083, 4.0750701083214125, 4.031282621276303, 4.012635383856958, 4.018838682530439, 4.046275606796115, 4.0893655893317, 4.141186945952202, 4.1940920847585605, 4.240885409088202, 4.276283424188927, 4.297974072044066, 4.306796491697607, 4.305939123443052, 4.299501865803259, 4.291161196094223, 4.283517826425041, 4.27811497289718, 4.275773993385785, 4.276901476588936, 4.2815557914486435, 4.289290653001528, 4.299026353315143, 4.309194925555806, 4.318166337094481, 4.3247475374390625, 4.328495788939958, 4.329696968160129, 4.3290751312937745, 4.327460698004546, 4.325599029607537, 4.324106479263678, 4.323465901933608, 4.323969821365159, 4.325621445637485, 4.328092745274548, 4.330822760542945, 4.333231263630813, 4.3349309390546065, 4.335822647583533, 4.336044007044789, 4.3358407957062175, 4.335460532620155, 4.33511140062563, 4.334957044665266, 4.3350996950256855, 4.335544319280381, 4.336183179715499, 4.336838861685409, 4.337353088735871, 4.3376622065699255, 4.337806663481176, 4.337875668973198, 4.3379386589308835, 4.33801597663957, 4.338097013464285, 4.3381726117556605, 4.338247193383528, 4.338327311253343, 4.3384092856942, 4.338483463161001, 4.338548294490027, 4.338614922567395, 4.338695283803367, 4.338786981134166, 4.338872015010106, 4.338930645685982, 4.338955871448484, 4.338955614715483, 4.338944330966331, 4.3389351017669355, 4.338938066111583, 4.338960772171666, 4.3390047687207645, 4.339060953414851, 4.3391114741653025, 4.339140156540701, 4.339143291326385, 4.339130944312565, 4.339118147262062, 4.339114746049522, 4.339122118460683, 4.339136614080842, 4.339153838281897, 4.339170066150129, 4.339182171263124, 4.339188478669265, 4.339189955012362, 4.339189581282251, 4.3391899820886835, 4.339191827073577, 4.339194498501965, 4.339197604013932, 4.3392012505175295, 4.339205193399584, 4.339208585393382, 4.339210868141716, 4.339212442415441, 4.339214048403596, 4.339215722024065, 4.339216810476517, 4.339216984534232, 4.339216815962871, 4.339217192859567, 4.3392184279742825, 4.339220131517454, 4.339221746936973, 4.339222938335151, 4.339223564513705, 4.339223629810102, 4.3392233825237865, 4.339223255699458, 4.3392235325141675, 4.339224121507812, 4.339224739087677, 4.339225230386436, 4.3392256169258365, 4.339225919189938, 4.339226093936207, 4.339226146053708, 4.339226169872711, 4.339226236702315, 4.339226328145517, 4.339226421215644, 4.339226560598829, 4.339226785972217, 4.339227039112472, 4.339227208057914, 4.3392272429159116, 4.3392271858165845, 4.339227111264268, 4.339227081183792, 4.339227136434864, 4.339227276049053, 4.339227439639514, 4.339227547209688, 4.339227566892804, 4.339227528556451, 4.339227480162469, 4.339227455268124, 4.339227473049697, 4.339227534393551, 4.339227610835972, 4.339227661356808, 4.339227669849598, 4.339227654439747, 4.33922764021344, 4.339227637374697, 4.339227645333991, 4.339227661409363, 4.339227680785577, 4.339227697926312, 4.339227710970298, 4.33922771952959, 4.339227720666144, 4.339227713739556, 4.3392277060577, 4.339227706699739, 4.339227716774308, 4.3392277303279245, 4.339227741434535, 4.339227746508733, 4.339227744042465, 4.339227736748339, 4.339227731288854, 4.33922773260949, 4.339227739876579, 4.339227748511665, 4.339227753977381, 4.3392277539658695]\n",
      "[tensor(1.43583719, requires_grad=True), tensor(1.51217627, requires_grad=True), tensor(1.58754743, requires_grad=True), tensor(1.68278773, requires_grad=True), tensor(1.80944048, requires_grad=True), tensor(1.97294694, requires_grad=True), tensor(2.17542032, requires_grad=True), tensor(2.41459443, requires_grad=True), tensor(2.68285106, requires_grad=True), tensor(2.96992079, requires_grad=True), tensor(3.26824708, requires_grad=True), tensor(3.56628467, requires_grad=True), tensor(3.84216503, requires_grad=True), tensor(4.06747612, requires_grad=True), tensor(4.21623643, requires_grad=True), tensor(4.27800462, requires_grad=True), tensor(4.26607143, requires_grad=True), tensor(4.20978655, requires_grad=True), tensor(4.1388425, requires_grad=True), tensor(4.07507011, requires_grad=True), tensor(4.03128262, requires_grad=True), tensor(4.01263538, requires_grad=True), tensor(4.01883868, requires_grad=True), tensor(4.04627561, requires_grad=True), tensor(4.08936559, requires_grad=True), tensor(4.14118695, requires_grad=True), tensor(4.19409208, requires_grad=True), tensor(4.24088541, requires_grad=True), tensor(4.27628342, requires_grad=True), tensor(4.29797407, requires_grad=True), tensor(4.30679649, requires_grad=True), tensor(4.30593912, requires_grad=True), tensor(4.29950187, requires_grad=True), tensor(4.2911612, requires_grad=True), tensor(4.28351783, requires_grad=True), tensor(4.27811497, requires_grad=True), tensor(4.27577399, requires_grad=True), tensor(4.27690148, requires_grad=True), tensor(4.28155579, requires_grad=True), tensor(4.28929065, requires_grad=True), tensor(4.29902635, requires_grad=True), tensor(4.30919493, requires_grad=True), tensor(4.31816634, requires_grad=True), tensor(4.32474754, requires_grad=True), tensor(4.32849579, requires_grad=True), tensor(4.32969697, requires_grad=True), tensor(4.32907513, requires_grad=True), tensor(4.3274607, requires_grad=True), tensor(4.32559903, requires_grad=True), tensor(4.32410648, requires_grad=True), tensor(4.3234659, requires_grad=True), tensor(4.32396982, requires_grad=True), tensor(4.32562145, requires_grad=True), tensor(4.32809275, requires_grad=True), tensor(4.33082276, requires_grad=True), tensor(4.33323126, requires_grad=True), tensor(4.33493094, requires_grad=True), tensor(4.33582265, requires_grad=True), tensor(4.33604401, requires_grad=True), tensor(4.3358408, requires_grad=True), tensor(4.33546053, requires_grad=True), tensor(4.3351114, requires_grad=True), tensor(4.33495704, requires_grad=True), tensor(4.3350997, requires_grad=True), tensor(4.33554432, requires_grad=True), tensor(4.33618318, requires_grad=True), tensor(4.33683886, requires_grad=True), tensor(4.33735309, requires_grad=True), tensor(4.33766221, requires_grad=True), tensor(4.33780666, requires_grad=True), tensor(4.33787567, requires_grad=True), tensor(4.33793866, requires_grad=True), tensor(4.33801598, requires_grad=True), tensor(4.33809701, requires_grad=True), tensor(4.33817261, requires_grad=True), tensor(4.33824719, requires_grad=True), tensor(4.33832731, requires_grad=True), tensor(4.33840929, requires_grad=True), tensor(4.33848346, requires_grad=True), tensor(4.33854829, requires_grad=True), tensor(4.33861492, requires_grad=True), tensor(4.33869528, requires_grad=True), tensor(4.33878698, requires_grad=True), tensor(4.33887202, requires_grad=True), tensor(4.33893065, requires_grad=True), tensor(4.33895587, requires_grad=True), tensor(4.33895561, requires_grad=True), tensor(4.33894433, requires_grad=True), tensor(4.3389351, requires_grad=True), tensor(4.33893807, requires_grad=True), tensor(4.33896077, requires_grad=True), tensor(4.33900477, requires_grad=True), tensor(4.33906095, requires_grad=True), tensor(4.33911147, requires_grad=True), tensor(4.33914016, requires_grad=True), tensor(4.33914329, requires_grad=True), tensor(4.33913094, requires_grad=True), tensor(4.33911815, requires_grad=True), tensor(4.33911475, requires_grad=True), tensor(4.33912212, requires_grad=True), tensor(4.33913661, requires_grad=True), tensor(4.33915384, requires_grad=True), tensor(4.33917007, requires_grad=True), tensor(4.33918217, requires_grad=True), tensor(4.33918848, requires_grad=True), tensor(4.33918996, requires_grad=True), tensor(4.33918958, requires_grad=True), tensor(4.33918998, requires_grad=True), tensor(4.33919183, requires_grad=True), tensor(4.3391945, requires_grad=True), tensor(4.3391976, requires_grad=True), tensor(4.33920125, requires_grad=True), tensor(4.33920519, requires_grad=True), tensor(4.33920859, requires_grad=True), tensor(4.33921087, requires_grad=True), tensor(4.33921244, requires_grad=True), tensor(4.33921405, requires_grad=True), tensor(4.33921572, requires_grad=True), tensor(4.33921681, requires_grad=True), tensor(4.33921698, requires_grad=True), tensor(4.33921682, requires_grad=True), tensor(4.33921719, requires_grad=True), tensor(4.33921843, requires_grad=True), tensor(4.33922013, requires_grad=True), tensor(4.33922175, requires_grad=True), tensor(4.33922294, requires_grad=True), tensor(4.33922356, requires_grad=True), tensor(4.33922363, requires_grad=True), tensor(4.33922338, requires_grad=True), tensor(4.33922326, requires_grad=True), tensor(4.33922353, requires_grad=True), tensor(4.33922412, requires_grad=True), tensor(4.33922474, requires_grad=True), tensor(4.33922523, requires_grad=True), tensor(4.33922562, requires_grad=True), tensor(4.33922592, requires_grad=True), tensor(4.33922609, requires_grad=True), tensor(4.33922615, requires_grad=True), tensor(4.33922617, requires_grad=True), tensor(4.33922624, requires_grad=True), tensor(4.33922633, requires_grad=True), tensor(4.33922642, requires_grad=True), tensor(4.33922656, requires_grad=True), tensor(4.33922679, requires_grad=True), tensor(4.33922704, requires_grad=True), tensor(4.33922721, requires_grad=True), tensor(4.33922724, requires_grad=True), tensor(4.33922719, requires_grad=True), tensor(4.33922711, requires_grad=True), tensor(4.33922708, requires_grad=True), tensor(4.33922714, requires_grad=True), tensor(4.33922728, requires_grad=True), tensor(4.33922744, requires_grad=True), tensor(4.33922755, requires_grad=True), tensor(4.33922757, requires_grad=True), tensor(4.33922753, requires_grad=True), tensor(4.33922748, requires_grad=True), tensor(4.33922746, requires_grad=True), tensor(4.33922747, requires_grad=True), tensor(4.33922753, requires_grad=True), tensor(4.33922761, requires_grad=True), tensor(4.33922766, requires_grad=True), tensor(4.33922767, requires_grad=True), tensor(4.33922765, requires_grad=True), tensor(4.33922764, requires_grad=True), tensor(4.33922764, requires_grad=True), tensor(4.33922765, requires_grad=True), tensor(4.33922766, requires_grad=True), tensor(4.33922768, requires_grad=True), tensor(4.3392277, requires_grad=True), tensor(4.33922771, requires_grad=True), tensor(4.33922772, requires_grad=True), tensor(4.33922772, requires_grad=True), tensor(4.33922771, requires_grad=True), tensor(4.33922771, requires_grad=True), tensor(4.33922771, requires_grad=True), tensor(4.33922772, requires_grad=True), tensor(4.33922773, requires_grad=True), tensor(4.33922774, requires_grad=True), tensor(4.33922775, requires_grad=True), tensor(4.33922774, requires_grad=True), tensor(4.33922774, requires_grad=True), tensor(4.33922773, requires_grad=True), tensor(4.33922773, requires_grad=True), tensor(4.33922774, requires_grad=True), tensor(4.33922775, requires_grad=True), tensor(4.33922775, requires_grad=True), tensor(4.33922775, requires_grad=True)]\n"
     ]
    }
   ],
   "source": [
    "print(energy_sv1)\n",
    "print(energy_sv1[0])\n",
    "\n",
    "print(energy_sv1[np.array(1)])\n",
    "nottensor = [float(energy_sv1[i]) for i in range(len(energy_sv1))]\n",
    "print(nottensor)\n",
    "energy_list = []\n",
    "for i in range(len(energy_sv1)):\n",
    "    energy_list.append(energy_sv1[i])\n",
    "\n",
    "print(energy_list)"
   ]
  }
 ],
 "metadata": {
  "kernelspec": {
   "display_name": "Python 3 (ipykernel)",
   "language": "python",
   "name": "python3"
  },
  "language_info": {
   "codemirror_mode": {
    "name": "ipython",
    "version": 3
   },
   "file_extension": ".py",
   "mimetype": "text/x-python",
   "name": "python",
   "nbconvert_exporter": "python",
   "pygments_lexer": "ipython3",
   "version": "3.8.8"
  },
  "vscode": {
   "interpreter": {
    "hash": "aee8b7b246df8f9039afb4144a1f6fd8d2ca17a180786b69acc140d282b71a49"
   }
  }
 },
 "nbformat": 4,
 "nbformat_minor": 2
}
