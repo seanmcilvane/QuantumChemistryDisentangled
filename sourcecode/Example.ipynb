{
 "cells": [
  {
   "cell_type": "code",
   "execution_count": 5,
   "metadata": {},
   "outputs": [],
   "source": [
    "from VQE_function import run_vqe\n",
    "import matplotlib\n",
    "from matplotlib import pyplot as plt\n",
    "import energyusage\n",
    "import json\n",
    "from timeit import default_timer as timer\n"
   ]
  },
  {
   "cell_type": "code",
   "execution_count": 6,
   "metadata": {},
   "outputs": [
    {
     "name": "stdout",
     "output_type": "stream",
     "text": [
      "time elapsed: 19.968513134999995\n",
      "number of iterations: 180\n"
     ]
    }
   ],
   "source": [
    "start = timer()\n",
    "\n",
    "n_pennylane, energy_pennylane = run_vqe(device= \"default.qubit\",\n",
    "                    source_path = \"part1.txt\",\n",
    "                    positive_energy_flag = \"True\",\n",
    "                    reps = 1,\n",
    "                    skip_final_rotation_layer = \"True\")\n",
    "end = timer()\n",
    "\n",
    "print(\"time elapsed:\", end - start),\n",
    "print(\"number of iterations:\", len(n_pennylane)),\n",
    "pennylane_dict = {\"n_iterations\": n_pennylane,\n",
    "                     \"energy_list\": energy_pennylane,\n",
    "                     \"run_time\": end-start}\n",
    "with open(f'results/beh2/pennylane-DefaultQubit.txt','w+') as pennylane_file:\n",
    "    pennylane_file.write(json.dumps(pennylane_dict))\n",
    "\n"
   ]
  },
  {
   "cell_type": "code",
   "execution_count": null,
   "metadata": {},
   "outputs": [],
   "source": [
    "start = timer()\n",
    "n_sv1, energy_sv1 = run_vqe(device= \"braket.aws.qubit\",\n",
    "                    source_path = \"part1.txt\",\n",
    "                    positive_energy_flag = \"True\",\n",
    "                    reps = 1,\n",
    "                    skip_final_rotation_layer = \"True\")\n",
    "end = timer()\n",
    "print(\"sv1\")\n",
    "print(\"time elapsed:\", end - start)\n",
    "print(\"number of iterations:\", len(n_sv1))\n",
    "sv1_dict = {\"n_iterations\": n_sv1,\n",
    "                     \"energy_list\": energy_sv1,\n",
    "                     \"run_time\": end-start}\n",
    "with open(f'results/beh2/pennylane-DefaultQubit.txt','w+') as pennylane_file:\n",
    "    pennylane_file.write(json.dumps(pennylane_dict))\n",
    "\n"
   ]
  },
  {
   "cell_type": "code",
   "execution_count": null,
   "metadata": {},
   "outputs": [],
   "source": [
    "#plt.plot(n_pennylane, energy_pennylane, label = 'pennylane')\n",
    "plt.xlabel('iterations')\n",
    "plt.ylabel('energy')\n",
    "plt.plot(n_sv1, energy_sv1, label = 'sv1')\n",
    "plt.legend()\n",
    "plt.show()"
   ]
  },
  {
   "cell_type": "code",
   "execution_count": null,
   "metadata": {},
   "outputs": [],
   "source": []
  }
 ],
 "metadata": {
  "kernelspec": {
   "display_name": "Python 3 (ipykernel)",
   "language": "python",
   "name": "python3"
  },
  "language_info": {
   "codemirror_mode": {
    "name": "ipython",
    "version": 3
   },
   "file_extension": ".py",
   "mimetype": "text/x-python",
   "name": "python",
   "nbconvert_exporter": "python",
   "pygments_lexer": "ipython3",
   "version": "3.8.8"
  },
  "vscode": {
   "interpreter": {
    "hash": "aee8b7b246df8f9039afb4144a1f6fd8d2ca17a180786b69acc140d282b71a49"
   }
  }
 },
 "nbformat": 4,
 "nbformat_minor": 2
}
