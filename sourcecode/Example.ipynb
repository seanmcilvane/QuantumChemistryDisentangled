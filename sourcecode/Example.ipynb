{
 "cells": [
  {
   "cell_type": "code",
   "execution_count": 1,
   "metadata": {},
   "outputs": [],
   "source": [
    "from VQE_function import run_vqe\n",
    "import matplotlib\n",
    "from matplotlib import pyplot as plt\n",
    "from timeit import default_timer as timer"
   ]
  },
  {
   "cell_type": "code",
   "execution_count": 2,
   "metadata": {},
   "outputs": [
    {
     "name": "stdout",
     "output_type": "stream",
     "text": [
      "pennylane\n",
      "time elapsed: 56.607159508\n"
     ]
    },
    {
     "name": "stderr",
     "output_type": "stream",
     "text": [
      "INFO:backoff:Backing off get_quantum_task(...) for 0.7s (botocore.errorfactory.ResourceNotFoundException: An error occurred (ResourceNotFoundException) when calling the GetQuantumTask operation: Quantum task 681bf265-7e51-4bfd-b87d-05b82e8a7a8b not found)\n"
     ]
    },
    {
     "name": "stdout",
     "output_type": "stream",
     "text": [
      "sv1\n",
      "time elapsed: 813.196106343\n"
     ]
    }
   ],
   "source": [
    "start = timer()\n",
    "n_pennylane, energy_pennylane = run_vqe(device= \"default.qubit\",\n",
    "                    source_path = \"part0.txt\",\n",
    "                    positive_energy_flag = \"True\",\n",
    "                    reps = 1,\n",
    "                    skip_final_rotation_layer = \"True\")\n",
    "\n",
    "end = timer()\n",
    "print(\"pennylane\")\n",
    "print(\"time elapsed:\", end - start)\n",
    "start = timer()\n",
    "n_sv1, energy_sv1 = run_vqe(device= \"braket.aws.qubit\",\n",
    "                    source_path = \"part0.txt\",\n",
    "                    positive_energy_flag = \"True\",\n",
    "                    reps = 1,\n",
    "                    skip_final_rotation_layer = \"True\")\n",
    "end = timer()\n",
    "print(\"sv1\")\n",
    "print(\"time elapsed:\", end - start)"
   ]
  },
  {
   "cell_type": "code",
   "execution_count": 4,
   "metadata": {},
   "outputs": [
    {
     "data": {
      "image/png": "[encoded data removed]",
      "text/plain": [
       "<Figure size 432x288 with 1 Axes>"
      ]
     },
     "metadata": {
      "needs_background": "light"
     },
     "output_type": "display_data"
    }
   ],
   "source": [
    "plt.plot(n_pennylane, energy_pennylane, label = 'pennylane')\n",
    "plt.xlabel('iterations')\n",
    "plt.ylabel('energy')\n",
    "plt.plot(n_sv1, energy_sv1, label = 'sv1')\n",
    "\n",
    "plt.show()"
   ]
  },
  {
   "cell_type": "code",
   "execution_count": null,
   "metadata": {},
   "outputs": [],
   "source": []
  }
 ],
 "metadata": {
  "kernelspec": {
   "display_name": "Python 3.9.5 ('QC')",
   "language": "python",
   "name": "python3"
  },
  "language_info": {
   "codemirror_mode": {
    "name": "ipython",
    "version": 3
   },
   "file_extension": ".py",
   "mimetype": "text/x-python",
   "name": "python",
   "nbconvert_exporter": "python",
   "pygments_lexer": "ipython3",
   "version": "3.9.5"
  },
  "orig_nbformat": 4,
  "vscode": {
   "interpreter": {
    "hash": "bd37e5054b4833a414829d03571d1c480f42f3711e810129dc8e959ff79337be"
   }
  }
 },
 "nbformat": 4,
 "nbformat_minor": 2
}
