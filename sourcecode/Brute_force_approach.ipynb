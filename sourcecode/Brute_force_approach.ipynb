{
  "nbformat": 4,
  "nbformat_minor": 0,
  "metadata": {
    "colab": {
      "provenance": []
    },
    "kernelspec": {
      "name": "python3",
      "display_name": "Python 3"
    },
    "language_info": {
      "name": "python"
    }
  },
  "cells": [
    {
      "cell_type": "code",
      "source": [
        "pip install pennylane"
      ],
      "metadata": {
        "id": "r7Kr5hFQtP0H"
      },
      "execution_count": null,
      "outputs": []
    },
    {
      "cell_type": "code",
      "source": [
        "import pennylane as qml\n",
        "from pennylane import qchem\n",
        "from pennylane import numpy as np\n",
        "\n",
        "symbols = [\"Be\", \"H\", \"H\"]\n",
        "coordinates = np.array([0.0, 0.0, 0.0, 0.0, 0.0, -1.32, 0.0, 0.0, 1.32])\n",
        "basis_set = \"sto-3g\"\n",
        "\n",
        "H, qubits = qchem.molecular_hamiltonian(\n",
        "    symbols,\n",
        "    coordinates,\n",
        "    basis=basis_set,\n",
        ")"
      ],
      "metadata": {
        "id": "DpM69Y_cuaAU"
      },
      "execution_count": 2,
      "outputs": []
    },
    {
      "cell_type": "code",
      "source": [
        "electrons = 2\n",
        "hf = qchem.hf_state(electrons, qubits)"
      ],
      "metadata": {
        "id": "EDrCKJ2IuilD"
      },
      "execution_count": 3,
      "outputs": []
    },
    {
      "cell_type": "code",
      "source": [
        "singles, doubles = qchem.excitations(electrons=electrons, orbitals=qubits)\n",
        "num_theta = len(singles) + len(doubles)\n",
        "\n",
        "def circuit_VQE(theta, wires):\n",
        "    qml.AllSinglesDoubles(\n",
        "        weights = theta,\n",
        "        wires = wires,\n",
        "        hf_state = hf,\n",
        "        singles = singles,\n",
        "        doubles = doubles)"
      ],
      "metadata": {
        "id": "KZoUeYW7ulJs"
      },
      "execution_count": 4,
      "outputs": []
    },
    {
      "cell_type": "code",
      "source": [
        "dev = qml.device('default.qubit', wires=qubits)\n",
        "@qml.qnode(dev)\n",
        "def cost_fn(theta):\n",
        "    circuit_VQE(theta,range(qubits))\n",
        "    return qml.expval(H)"
      ],
      "metadata": {
        "id": "inkwvIKwunIo"
      },
      "execution_count": 5,
      "outputs": []
    },
    {
      "cell_type": "code",
      "source": [
        "stepsize = 0.4\n",
        "max_iterations = 30\n",
        "opt = qml.GradientDescentOptimizer(stepsize=stepsize)\n",
        "theta = np.random.uniform(0,1,num_theta, requires_grad=True)"
      ],
      "metadata": {
        "id": "a0ZI5BkWuqVc"
      },
      "execution_count": 6,
      "outputs": []
    },
    {
      "cell_type": "code",
      "source": [
        "for n in range(max_iterations):\n",
        "\n",
        "    theta, prev_energy = opt.step_and_cost(cost_fn, theta)\n",
        "    samples = cost_fn(theta)\n",
        "\n",
        "    print('VQE energy: %.4f' %(prev_energy))\n",
        "    print('Optimal parameters:', theta)\n",
        "\n",
        "energy_VQE = cost_fn(theta)\n",
        "theta_opt = theta\n",
        "\n",
        "print('VQE energy: %.4f' %(energy_VQE))\n",
        "print('Optimal parameters:', theta_opt)"
      ],
      "metadata": {
        "id": "QN8pMZFpuszc"
      },
      "execution_count": null,
      "outputs": []
    }
  ]
}