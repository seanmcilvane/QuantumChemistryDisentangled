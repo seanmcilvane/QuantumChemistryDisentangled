{
  "cells": [
    {
      "cell_type": "code",
      "execution_count": null,
      "metadata": {
        "id": "pKun1Xp81AvQ"
      },
      "outputs": [],
      "source": [
        "!pip install pennylane\n",
        "!pip install openfermion\n",
        "!pip install openfermionpyscf"
      ]
    },
    {
      "cell_type": "code",
      "execution_count": null,
      "metadata": {
        "id": "P69lXGmf1FDP"
      },
      "outputs": [],
      "source": [
        "import openfermion\n",
        "import openfermion.ops.representations as reps\n",
        "import pennylane as qml\n",
        "\n",
        "from openfermionpyscf import run_pyscf\n",
        "from openfermion.transforms import get_fermion_operator , jordan_wigner\n",
        "from pennylane import numpy as np\n",
        "\n",
        "\n",
        "H_position = 1.32\n",
        "conversion_units = 0.52917721067121\n",
        "H_position_after_conversion = conversion_units * H_position\n",
        "\n",
        "geometry = [(\"Be\", [0, 0, 0]), ('H', [0, 0, -H_position_after_conversion]),('H', [0, 0, H_position_after_conversion])]\n",
        "basis = 'sto3g'\n",
        "multiplicity = 1\n",
        "charge = 0\n",
        "beh2molecule = openfermion.chem.MolecularData(geometry , basis , multiplicity , charge)\n",
        "\n",
        "beh2molecule_calculated = run_pyscf(beh2molecule , run_mp2=True , run_cisd=True, run_ccsd=True, run_fci=True)\n",
        "\n",
        "constant = beh2molecule_calculated.nuclear_repulsion\n",
        "one_body_integrals = beh2molecule_calculated.one_body_integrals\n",
        "two_body_integrals = beh2molecule_calculated.two_body_integrals\n",
        "\n",
        "one_body_coefficients, two_body_coefficients = openfermion.chem.molecular_data.spinorb_from_spatial(one_body_integrals, two_body_integrals)\n",
        "\n",
        "molecular_hamiltonian = reps.InteractionOperator(constant, one_body_coefficients, 1/2*two_body_coefficients)\n",
        "# 1/2*two_body_coefficients\n",
        "# np.zeros(two_body_coefficients.shape)\n",
        "\n",
        "beh2_qubit_hamiltonian = jordan_wigner(get_fermion_operator(molecular_hamiltonian))\n",
        "\n",
        "beh2_qubit_hamiltonian_pennylane = qml.import_operator(beh2_qubit_hamiltonian, format='openfermion')\n",
        "\n",
        "print(beh2_qubit_hamiltonian_pennylane)"
      ]
    }
  ],
  "metadata": {
    "colab": {
      "provenance": [],
      "toc_visible": true
    },
    "kernelspec": {
      "display_name": "Python 3",
      "name": "python3"
    },
    "language_info": {
      "name": "python"
    }
  },
  "nbformat": 4,
  "nbformat_minor": 0
}